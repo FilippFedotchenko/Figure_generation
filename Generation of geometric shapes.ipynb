{
  "cells": [
    {
      "cell_type": "code",
      "execution_count": 50,
      "metadata": {
        "colab": {
          "base_uri": "https://localhost:8080/"
        },
        "id": "VY4fujuTM9C9",
        "outputId": "d2179cd2-72cc-4c0e-aa7b-b868daba505e"
      },
      "outputs": [
        {
          "output_type": "stream",
          "name": "stdout",
          "text": [
            "2.0.1+cu118\n"
          ]
        }
      ],
      "source": [
        "import random\n",
        "import math\n",
        "import json\n",
        "import os\n",
        "from PIL import Image, ImageDraw\n",
        "import seaborn as sns\n",
        "from IPython.display import clear_output\n",
        "from statistics import mode\n",
        "\n",
        "from torch.utils.data import Dataset\n",
        "import torchvision.transforms as transforms\n",
        "\n",
        "import os\n",
        "import shutil\n",
        "import numpy as np\n",
        "import matplotlib.pyplot as plt\n",
        "import matplotlib.patches as patches\n",
        "import cv2\n",
        "from xml.etree import ElementTree as et\n",
        "\n",
        "import torch\n",
        "import torchvision\n",
        "from torchvision import ops\n",
        "from torchvision.models.detection import fasterrcnn_resnet50_fpn\n",
        "from torchvision.models.detection.faster_rcnn import FastRCNNPredictor\n",
        "from torchvision.models.detection import ssd300_vgg16\n",
        "from torchvision import transforms\n",
        "\n",
        "import albumentations as A\n",
        "from albumentations.pytorch.transforms import ToTensorV2\n",
        "from sklearn.model_selection import train_test_split\n",
        "\n",
        "import time\n",
        "import argparse\n",
        "from PIL import Image\n",
        "from google.colab.patches import cv2_imshow\n",
        "import skimage\n",
        "from skimage import io\n",
        "from PIL import Image\n",
        "from urllib.request import urlopen\n",
        "\n",
        "%matplotlib inline\n",
        "\n",
        "print(torch.__version__)"
      ]
    },
    {
      "cell_type": "code",
      "source": [
        "%%bash\n",
        "pip install numpy scipy scikit-image matplotlib"
      ],
      "metadata": {
        "colab": {
          "base_uri": "https://localhost:8080/"
        },
        "id": "9tGrqpQGeDj2",
        "outputId": "61593fa1-92f8-4753-fd70-57fa6151b923"
      },
      "execution_count": 51,
      "outputs": [
        {
          "output_type": "stream",
          "name": "stdout",
          "text": [
            "Requirement already satisfied: numpy in /usr/local/lib/python3.10/dist-packages (1.23.5)\n",
            "Requirement already satisfied: scipy in /usr/local/lib/python3.10/dist-packages (1.11.2)\n",
            "Requirement already satisfied: scikit-image in /usr/local/lib/python3.10/dist-packages (0.19.3)\n",
            "Requirement already satisfied: matplotlib in /usr/local/lib/python3.10/dist-packages (3.7.1)\n",
            "Requirement already satisfied: networkx>=2.2 in /usr/local/lib/python3.10/dist-packages (from scikit-image) (3.1)\n",
            "Requirement already satisfied: pillow!=7.1.0,!=7.1.1,!=8.3.0,>=6.1.0 in /usr/local/lib/python3.10/dist-packages (from scikit-image) (9.4.0)\n",
            "Requirement already satisfied: imageio>=2.4.1 in /usr/local/lib/python3.10/dist-packages (from scikit-image) (2.31.3)\n",
            "Requirement already satisfied: tifffile>=2019.7.26 in /usr/local/lib/python3.10/dist-packages (from scikit-image) (2023.8.30)\n",
            "Requirement already satisfied: PyWavelets>=1.1.1 in /usr/local/lib/python3.10/dist-packages (from scikit-image) (1.4.1)\n",
            "Requirement already satisfied: packaging>=20.0 in /usr/local/lib/python3.10/dist-packages (from scikit-image) (23.1)\n",
            "Requirement already satisfied: contourpy>=1.0.1 in /usr/local/lib/python3.10/dist-packages (from matplotlib) (1.1.0)\n",
            "Requirement already satisfied: cycler>=0.10 in /usr/local/lib/python3.10/dist-packages (from matplotlib) (0.11.0)\n",
            "Requirement already satisfied: fonttools>=4.22.0 in /usr/local/lib/python3.10/dist-packages (from matplotlib) (4.42.1)\n",
            "Requirement already satisfied: kiwisolver>=1.0.1 in /usr/local/lib/python3.10/dist-packages (from matplotlib) (1.4.5)\n",
            "Requirement already satisfied: pyparsing>=2.3.1 in /usr/local/lib/python3.10/dist-packages (from matplotlib) (3.1.1)\n",
            "Requirement already satisfied: python-dateutil>=2.7 in /usr/local/lib/python3.10/dist-packages (from matplotlib) (2.8.2)\n",
            "Requirement already satisfied: six>=1.5 in /usr/local/lib/python3.10/dist-packages (from python-dateutil>=2.7->matplotlib) (1.16.0)\n"
          ]
        }
      ]
    },
    {
      "cell_type": "code",
      "source": [
        "!pip install -U torchmetrics\n",
        "from torchmetrics.detection.mean_ap import MeanAveragePrecision"
      ],
      "metadata": {
        "colab": {
          "base_uri": "https://localhost:8080/"
        },
        "id": "dyYG2Gw8eHQp",
        "outputId": "306aaba3-607f-4e0f-ac65-4b6e738f8385"
      },
      "execution_count": 52,
      "outputs": [
        {
          "output_type": "stream",
          "name": "stdout",
          "text": [
            "Requirement already satisfied: torchmetrics in /usr/local/lib/python3.10/dist-packages (1.1.2)\n",
            "Requirement already satisfied: numpy>1.20.0 in /usr/local/lib/python3.10/dist-packages (from torchmetrics) (1.23.5)\n",
            "Requirement already satisfied: torch>=1.8.1 in /usr/local/lib/python3.10/dist-packages (from torchmetrics) (2.0.1+cu118)\n",
            "Requirement already satisfied: lightning-utilities>=0.8.0 in /usr/local/lib/python3.10/dist-packages (from torchmetrics) (0.9.0)\n",
            "Requirement already satisfied: packaging>=17.1 in /usr/local/lib/python3.10/dist-packages (from lightning-utilities>=0.8.0->torchmetrics) (23.1)\n",
            "Requirement already satisfied: typing-extensions in /usr/local/lib/python3.10/dist-packages (from lightning-utilities>=0.8.0->torchmetrics) (4.5.0)\n",
            "Requirement already satisfied: filelock in /usr/local/lib/python3.10/dist-packages (from torch>=1.8.1->torchmetrics) (3.12.2)\n",
            "Requirement already satisfied: sympy in /usr/local/lib/python3.10/dist-packages (from torch>=1.8.1->torchmetrics) (1.12)\n",
            "Requirement already satisfied: networkx in /usr/local/lib/python3.10/dist-packages (from torch>=1.8.1->torchmetrics) (3.1)\n",
            "Requirement already satisfied: jinja2 in /usr/local/lib/python3.10/dist-packages (from torch>=1.8.1->torchmetrics) (3.1.2)\n",
            "Requirement already satisfied: triton==2.0.0 in /usr/local/lib/python3.10/dist-packages (from torch>=1.8.1->torchmetrics) (2.0.0)\n",
            "Requirement already satisfied: cmake in /usr/local/lib/python3.10/dist-packages (from triton==2.0.0->torch>=1.8.1->torchmetrics) (3.27.4.1)\n",
            "Requirement already satisfied: lit in /usr/local/lib/python3.10/dist-packages (from triton==2.0.0->torch>=1.8.1->torchmetrics) (16.0.6)\n",
            "Requirement already satisfied: MarkupSafe>=2.0 in /usr/local/lib/python3.10/dist-packages (from jinja2->torch>=1.8.1->torchmetrics) (2.1.3)\n",
            "Requirement already satisfied: mpmath>=0.19 in /usr/local/lib/python3.10/dist-packages (from sympy->torch>=1.8.1->torchmetrics) (1.3.0)\n"
          ]
        }
      ]
    },
    {
      "cell_type": "code",
      "source": [
        "!pip install tqdm\n",
        "from tqdm import tqdm"
      ],
      "metadata": {
        "colab": {
          "base_uri": "https://localhost:8080/"
        },
        "id": "FhzwEa-Wmr8n",
        "outputId": "0cd68c76-5ed4-4933-efd0-622d700a0113"
      },
      "execution_count": 53,
      "outputs": [
        {
          "output_type": "stream",
          "name": "stdout",
          "text": [
            "Requirement already satisfied: tqdm in /usr/local/lib/python3.10/dist-packages (4.66.1)\n"
          ]
        }
      ]
    },
    {
      "cell_type": "code",
      "source": [
        "class RandomShapesImageGenerator:\n",
        "    def __init__(self, width, height):\n",
        "        self.width = width\n",
        "        self.height = height\n",
        "        self.mask = [[False] * width for _ in range(height)]\n",
        "        self.boundary_boxes = []\n",
        "        self.fig_type = []\n",
        "\n",
        "    def generate_random_color(self):\n",
        "        red = random.randint(0, 255)\n",
        "        green = random.randint(0, 255)\n",
        "        blue = random.randint(0, 255)\n",
        "        return red, green, blue\n",
        "\n",
        "    def generate_non_overlapping_coords(self): # Генерация исходных координат по оси x, y\n",
        "        for _ in range(150):\n",
        "            x = random.randint(25, self.width - 25)\n",
        "            y = random.randint(25, self.height - 25)\n",
        "\n",
        "            # Проверка, находятся ли исходные координаты в пределах размеров изображения.\n",
        "            if 0 <= int(x) < self.width and 0 <= int(y) < self.height:\n",
        "\n",
        "                # Проверка, была ли эта точка в маске ранее занята (каким-либо другим элементом).\n",
        "                if not any(self.mask[int(y)][int(x)] for i in range(int(x) - 25, int(x) + 26) for j in range(int(y) - 25, int(y) + 26)):\n",
        "                    return x, y\n",
        "\n",
        "    def check_mask_overlap(self, x, y, size, angle): # Проверка на пересечение фигур\n",
        "        # Вычисление координаты пикселей, входящих в фигуру после вращения\n",
        "        rotated_pixels = set()\n",
        "        for i in range(y - size, y + size + 1):\n",
        "            for j in range(x - size, x + size + 1):\n",
        "                rotated_x, rotated_y = self.rotate_point((j, i), (x, y), -angle)  # Определение повернутых по оси координат\n",
        "                if 0 <= rotated_x < self.width and 0 <= rotated_y < self.height:\n",
        "                    rotated_pixels.add((int(rotated_x), int(rotated_y)))\n",
        "\n",
        "        # Проверка маски только для пикселей, занимаемых фигурой после вращения\n",
        "        for rotated_x, rotated_y in rotated_pixels:\n",
        "            if self.mask[rotated_y][rotated_x]:\n",
        "                return True\n",
        "        return False\n",
        "\n",
        "    def plot_image(self, image):\n",
        "        plt.figure(figsize=(6, 6))\n",
        "        plt.imshow(image)\n",
        "        plt.axis('off')\n",
        "        plt.show()\n",
        "\n",
        "    def generate_image(self):\n",
        "        image = Image.new(\"RGB\", (self.width, self.height))\n",
        "        draw = ImageDraw.Draw(image)\n",
        "        background_color = self.generate_random_color() # Генерация цвета фона\n",
        "        draw.rectangle([(0, 0), (self.width, self.height)], fill=background_color) # Создание изображения\n",
        "        num_shapes = random.randint(1, 5)\n",
        "\n",
        "        for _ in range(num_shapes):\n",
        "            shape_type = random.choice(['rhombus', 'triangle', 'circle', 'hexagon'])\n",
        "            self.fig_type.append(shape_type)\n",
        "            color = self.generate_random_color()\n",
        "            angle = random.uniform(0, 2 * math.pi)# Определение угла поворота фигуры\n",
        "            x, y = self.generate_non_overlapping_coords() # Генерация исходных координат по оси x, y\n",
        "            size = random.randint(25, min(self.width - x, self.height - y, x, y, 70)) # Определение размера фигуры\n",
        "            while self.check_mask_overlap(x, y, size, angle): # Проверка на пересечение фигур\n",
        "                x, y = self.generate_non_overlapping_coords()\n",
        "                size = 25\n",
        "\n",
        "            # Рисование фигуры и обработка маски с учетом угла\n",
        "            if shape_type == 'rhombus':\n",
        "                center_x = x\n",
        "                center_y = y  # Это координаты центра ромба\n",
        "                r1 = int(random.randint(0, 3)) # значение задающее изменчивость формы ромба\n",
        "                points = [(x, y - size), (x + size/2 + r1, y), (x, y + size), (x - size/2 - r1, y)]\n",
        "                rotated_points = [self.rotate_point(point, (center_x, center_y), angle) for point in points] # Вращение каждой точки относительно центра\n",
        "                draw.polygon(rotated_points, fill=color, outline=color) # Рисуем ромб\n",
        "\n",
        "                # Определение минимальной и максимальной координаты\n",
        "                min_x = min(rotated_x for rotated_x, _ in rotated_points)\n",
        "                max_x = max(rotated_x for rotated_x, _ in rotated_points)\n",
        "                min_y = min(rotated_y for _, rotated_y in rotated_points)\n",
        "                max_y = max(rotated_y for _, rotated_y in rotated_points)\n",
        "\n",
        "                # Создание границы вокруг ромба\n",
        "                self.boundary_boxes.append((min_x, min_y, max_x, max_y))\n",
        "                self.draw_rotated_rhombus(draw, color, x, y, size, angle, r1)\n",
        "                self.fill_mask(x, y, size)\n",
        "\n",
        "            elif shape_type == 'triangle':\n",
        "                # значения задающие изменчивость формы треугольника\n",
        "                t1 = int(random.randint(0, 3))\n",
        "                t2 = int(random.randint(0, 3))\n",
        "                t3 = int(random.randint(0, 3))\n",
        "                # Определение координаты вершин треугольника без учета вращения\n",
        "                x1, y1 = x, y - size - t1\n",
        "                x2, y2 = x + (size)/2 + t2, y\n",
        "                x3, y3 = x - (size)/2 - t3, y\n",
        "\n",
        "                # Вращение каждой вершины относительно центра\n",
        "                center_x = x\n",
        "                center_y = y\n",
        "                rotated_x1, rotated_y1 = self.rotate_point((x1, y1), (center_x, center_y), angle)\n",
        "                rotated_x2, rotated_y2 = self.rotate_point((x2, y2), (center_x, center_y), angle)\n",
        "                rotated_x3, rotated_y3 = self.rotate_point((x3, y3), (center_x, center_y), angle)\n",
        "\n",
        "                # Создание координат описывающего треугольника\n",
        "                min_x = min(rotated_x1, rotated_x2, rotated_x3)\n",
        "                max_x = max(rotated_x1, rotated_x2, rotated_x3)\n",
        "                min_y = min(rotated_y1, rotated_y2, rotated_y3)\n",
        "                max_y = max(rotated_y1, rotated_y2, rotated_y3)\n",
        "\n",
        "                # Определяем границу для треугольника\n",
        "                self.boundary_boxes.append((min_x, min_y, max_x, max_y))\n",
        "                self.draw_rotated_triangle(draw, color, x, y, size, angle, t1, t2, t3)\n",
        "\n",
        "                # Заполняем маску для текущего треугольника\n",
        "                self.fill_mask(x, y, size)\n",
        "\n",
        "            elif shape_type == 'circle':\n",
        "                self.draw_circle(draw, color, x, y, size)\n",
        "                self.fill_mask(x, y, size)\n",
        "                self.boundary_boxes.append((x - size, y - size, x + size, y + size))\n",
        "\n",
        "            elif shape_type == 'hexagon':\n",
        "                # Определяем вершины гексагона без учета вращения\n",
        "                center_x = x\n",
        "                center_y = y\n",
        "                points = []\n",
        "                for i in range(6):\n",
        "                    angle_offset = 2 * math.pi / 6 * i\n",
        "                    px = size * math.cos(angle_offset + angle)\n",
        "                    py = size * math.sin(angle_offset + angle)\n",
        "                    points.append((px, py))\n",
        "\n",
        "                # Переводим координаты обратно в систему координат изображения\n",
        "                rotated_points = [(center_x + px, center_y + py) for px, py in points]\n",
        "\n",
        "                # Определяем минимальные и максимальные значения координат\n",
        "                min_x = min(rotated_x for rotated_x, _ in rotated_points)\n",
        "                max_x = max(rotated_x for rotated_x, _ in rotated_points)\n",
        "                min_y = min(rotated_y for _, rotated_y in rotated_points)\n",
        "                max_y = max(rotated_y for _, rotated_y in rotated_points)\n",
        "\n",
        "                # Определяем границу для текущего вращенного гексагона\n",
        "                self.boundary_boxes.append((min_x, min_y, max_x, max_y))\n",
        "\n",
        "                # Рисуем вращенный гексагон\n",
        "                self.draw_hexagon(draw, color, x, y, size, angle)\n",
        "\n",
        "                # Заполняем маску для текущего гексагона\n",
        "                self.fill_mask(x, y, size)\n",
        "        return image\n",
        "\n",
        "    def draw_rotated_rhombus(self, draw, color, x, y, size, angle, t1):\n",
        "        center_x = x\n",
        "        center_y = y  # Координаты центра ромба\n",
        "        points = [(x, y - size), (x + size/2 + t1, y), (x, y + size), (x - size/2 - t1, y)]\n",
        "\n",
        "        # Вращаем каждую точку относительно центра\n",
        "        rotated_points = [self.rotate_point(point, (center_x, center_y), angle) for point in points]\n",
        "\n",
        "        # Рисуем ромб\n",
        "        draw.polygon(rotated_points, fill=color, outline=color)\n",
        "\n",
        "    def draw_rotated_triangle(self, draw, color, x, y, size, angle, t1, t2, t3):\n",
        "        center_x = x\n",
        "        center_y = y  # Координаты центра треугольника\n",
        "        points = [(x, y - size - t1), (x + size/2 + t2, y), (x - size/2 - t3, y)]\n",
        "\n",
        "        # Вращаем каждую точку относительно центра\n",
        "        rotated_points = [self.rotate_point(point, (center_x, center_y), angle) for point in points]\n",
        "\n",
        "        # Рисуем треугольник\n",
        "        draw.polygon(rotated_points, fill=color, outline=color)\n",
        "\n",
        "    def draw_circle(self, draw, color, x, y, radius):\n",
        "        draw.ellipse((x - radius, y - radius, x + radius, y + radius), fill=color, outline=color)\n",
        "\n",
        "    def draw_hexagon(self, draw, color, x, y, size, angle):\n",
        "        center_x = x\n",
        "        center_y = y\n",
        "        points = []\n",
        "        for i in range(6):\n",
        "            angle_offset = 2 * math.pi / 6 * i\n",
        "            pxx = size * math.cos(angle_offset + angle)\n",
        "            py = size * math.sin(angle_offset + angle)\n",
        "            points.append((pxx, py))\n",
        "\n",
        "        # Переводим координаты обратно в систему координат изображения\n",
        "        rotated_points = [(center_x + pxx, center_y + py) for pxx, py in points]\n",
        "\n",
        "        draw.polygon(rotated_points, fill=color, outline=color)\n",
        "\n",
        "    def draw_rotated_hexagon(self, draw, color, x, y, size, angle):\n",
        "        center_x = x\n",
        "        center_y = y  # Координаты центра гексагона\n",
        "        points = []\n",
        "        for i in range(6):\n",
        "            angle_rad = angle * 15 * math.pi\n",
        "            angle_offset = 2 * math.pi / 6 * i\n",
        "            pxxx = x + size * math.cos(angle_offset + angle_rad)\n",
        "            py = y + size * math.sin(angle_offset + angle_rad)\n",
        "            points.append((pxxx, py))\n",
        "\n",
        "        # Рисуем гексагон\n",
        "        draw.polygon(points, fill=color, outline=color)\n",
        "\n",
        "    def rotate_point(self, point, center, angle): # Функция отвечающая за вращение координат\n",
        "        x, y = point\n",
        "        cx, cy = center\n",
        "        new_x = (x - cx) * math.cos(angle) - (y - cy) * math.sin(angle) + cx\n",
        "        new_y = (x - cx) * math.sin(angle) + (y - cy) * math.cos(angle) + cy\n",
        "        return new_x, new_y\n",
        "\n",
        "    def fill_mask(self, x, y, size):\n",
        "        for i in range(y - size, y + size + 1):\n",
        "            for j in range(x - size, x + size + 1):\n",
        "                if 0 <= i < self.height and 0 <= j < self.width:\n",
        "                    self.mask[i][j] = True\n",
        "\n",
        "    def round_to_tenth(self,value):# Функция для округления значений\n",
        "        return round(value, 1)\n",
        "\n",
        "    def generate_boundary_box_params(self, id_offset):\n",
        "        params_list = []\n",
        "        for idx, (bx1, by1, bx2, by2) in enumerate(self.boundary_boxes):\n",
        "            bx1, by1, bx2, by2 = np.clip([bx1, by1, bx2, by2], 0, 256)\n",
        "            # Округляем значения до десятой доли\n",
        "            bx1, by1, bx2, by2 = int(bx1), int(by1), int(bx2), int(by2)\n",
        "            wid = bx2 - bx1\n",
        "            heig = by2 - by1\n",
        "            bx1, by1, wid, heig = map(self.round_to_tenth, (bx1, by1, wid, heig))\n",
        "\n",
        "            box_params = {\n",
        "                \"id\": id_offset + idx + 1,\n",
        "                \"name\": self.fig_type[idx],\n",
        "                \"region\": {\n",
        "                    \"origin\": {\n",
        "                        \"x\": bx1,\n",
        "                        \"y\": by1,\n",
        "                    },\n",
        "                    \"size\": {\n",
        "                        \"width\": wid,\n",
        "                        \"height\": heig\n",
        "                    }\n",
        "                }\n",
        "            }\n",
        "            params_list.append(box_params)\n",
        "        return params_list\n",
        "\n",
        "fig_folder = \"fig1\"\n",
        "os.makedirs(fig_folder, exist_ok=True)\n",
        "\n",
        "\n",
        "json_folder = \"json1\"\n",
        "os.makedirs(json_folder, exist_ok=True)\n",
        "\n",
        "id_counter = 0\n",
        "\n",
        "for i in tqdm(range(3000)):\n",
        "\n",
        "    # Создаем экземпляр класса\n",
        "    generator = RandomShapesImageGenerator(256, 256)\n",
        "\n",
        "    # Генерируем и сохраняем изображение\n",
        "    image = generator.generate_image()\n",
        "    image_path = os.path.join(fig_folder,  f\"{i + 1:03d}.png\")\n",
        "    image.save(image_path)\n",
        "\n",
        "    # Получаем параметры границ и сохраняем их в JSON\n",
        "    boundary_params = generator.generate_boundary_box_params(id_counter)\n",
        "    json_path = os.path.join(json_folder, f\"{i + 1:03d}.json\")\n",
        "    with open(json_path, \"w\") as json_file:\n",
        "        json.dump(boundary_params, json_file, indent=4)\n",
        "    id_counter += len(generator.boundary_boxes)"
      ],
      "metadata": {
        "id": "SHCcUOZp7F2A",
        "colab": {
          "base_uri": "https://localhost:8080/"
        },
        "outputId": "9fe2dd4d-357f-4a65-f183-ca1cd189bae3"
      },
      "execution_count": 54,
      "outputs": [
        {
          "output_type": "stream",
          "name": "stderr",
          "text": [
            "100%|██████████| 3000/3000 [03:08<00:00, 15.96it/s]\n"
          ]
        }
      ]
    },
    {
      "cell_type": "code",
      "source": [
        "import zipfile\n",
        "\n",
        "def create_zip_archive(archive_name, source_folders):\n",
        "    with zipfile.ZipFile(archive_name, 'w', zipfile.ZIP_DEFLATED) as zipf:\n",
        "        for folder in source_folders:\n",
        "            for root, dirs, files in os.walk(folder):\n",
        "                for file in files:\n",
        "                    file_path = os.path.join(root, file)\n",
        "                    arcname = os.path.relpath(file_path, folder)\n",
        "                    zipf.write(file_path, arcname)\n",
        "\n",
        "# Указываем папки для архивирования\n",
        "source_folders = ['fig1', 'json1']\n",
        "\n",
        "# Создаем архив\n",
        "create_zip_archive('data.zip', source_folders)"
      ],
      "metadata": {
        "id": "NsIsImJlRvHM"
      },
      "execution_count": 55,
      "outputs": []
    },
    {
      "cell_type": "code",
      "execution_count": 98,
      "metadata": {
        "id": "ZHA_sufaa3-a"
      },
      "outputs": [],
      "source": [
        "class CustomDataset(Dataset):\n",
        "    def __init__(self, image_folder, json_folder, transforms=None):\n",
        "        self.image_folder = image_folder\n",
        "        self.json_folder = json_folder\n",
        "        self.image_files = sorted([f for f in os.listdir(image_folder) if f.endswith(\".png\")])\n",
        "        self.json_files = sorted([f for f in os.listdir(json_folder) if f.endswith(\".json\")])\n",
        "        self.transforms = transforms\n",
        "        self.class_labels = ['_','hexagon', 'triangle', 'circle', 'rhombus']\n",
        "\n",
        "    def __len__(self):\n",
        "        return len(self.image_files)\n",
        "\n",
        "    def __getitem__(self, idx):\n",
        "        image_path = os.path.join(self.image_folder, self.image_files[idx])\n",
        "        json_path = os.path.join(self.json_folder, self.json_files[idx])\n",
        "\n",
        "        img = cv2.imread(image_path)# чтение файла\n",
        "        image = img.astype(np.float32)\n",
        "\n",
        "        with open(json_path, \"r\") as json_file:\n",
        "            json_data = json.load(json_file)\n",
        "\n",
        "        boxes = []\n",
        "        labels = []\n",
        "\n",
        "        # Обработка данных JSON для извлечения рамок и меток.\n",
        "        for item in json_data:\n",
        "            if item[\"name\"] in self.class_labels:\n",
        "                x, y, w, h = item[\"region\"]['origin'][\"x\"], item[\"region\"]['origin'][\"y\"], item[\"region\"]['size'][\"width\"], item[\"region\"]['size'][\"height\"]\n",
        "                boxes.append([x, y, x + w, y + h])\n",
        "                labels.append(self.class_labels.index(item[\"name\"]))\n",
        "\n",
        "        target = {\n",
        "            \"boxes\": torch.tensor(boxes, dtype=torch.float32),\n",
        "            \"labels\": torch.tensor(labels, dtype=torch.int64)\n",
        "        }\n",
        "\n",
        "        if self.transforms:\n",
        "            sample = self.transforms(image = image,\n",
        "                                      bboxes = target['boxes'],\n",
        "                                      labels = labels)\n",
        "            img_res = sample['image']\n",
        "            target['boxes'] = torch.Tensor(sample['bboxes'])\n",
        "\n",
        "        return img_res, target"
      ]
    },
    {
      "cell_type": "code",
      "execution_count": 99,
      "metadata": {
        "id": "VYtRTw0PM86q"
      },
      "outputs": [],
      "source": [
        "def plot_img_bbox(image, target, class_labels, aug):\n",
        "    fig, ax = plt.subplots(1)\n",
        "    fig.set_size_inches(5, 5)\n",
        "\n",
        "    if isinstance(image, torch.Tensor):\n",
        "        image = transforms.ToPILImage()(image)\n",
        "\n",
        "    ax.imshow(image)\n",
        "\n",
        "    boxes = target['boxes']\n",
        "    labels = target['labels']\n",
        "\n",
        "    for box, label_idx in zip(boxes, labels):\n",
        "        x1, y1, x2, y2 = box\n",
        "        label = class_labels[label_idx]\n",
        "\n",
        "        # Создайте описывающего прямоугольника\n",
        "        rect = patches.Rectangle((x1, y1), x2 - x1, y2 - y1, linewidth=2, edgecolor='r', facecolor='none')\n",
        "        ax.add_patch(rect)\n",
        "\n",
        "        # Добавление названия фигуры\n",
        "        ax.text(x1, y1, label, color='r', backgroundcolor='none', fontsize=12)\n",
        "    if aug == True:\n",
        "      ax.set_title(\"Augmented Image\")\n",
        "    else:\n",
        "      ax.set_title(\"Original Image\")\n",
        "\n",
        "    plt.show()"
      ]
    },
    {
      "cell_type": "code",
      "execution_count": 100,
      "metadata": {
        "id": "jGCEqhNeM8yr"
      },
      "outputs": [],
      "source": [
        "def get_model(num_classes, modelName):\n",
        "\n",
        "    # Загрузка модели\n",
        "    if modelName == 'fasterrcnn':\n",
        "        model = fasterrcnn_resnet50_fpn(pretrained=True)\n",
        "        in_features = model.roi_heads.box_predictor.cls_score.in_features\n",
        "        model.roi_heads.box_predictor = FastRCNNPredictor(in_features, num_classes)\n",
        "        return model\n",
        "\n",
        "    if modelName == 'SSD_300':\n",
        "        model = ssd300_vgg16(pretrained = True)\n",
        "        from torchvision.models.detection.ssd import SSDClassificationHead\n",
        "        anchors = model.anchor_generator.num_anchors_per_location()\n",
        "        out_channels = [512, 1024, 512, 256, 256, 256]\n",
        "        model.head.classification_head = SSDClassificationHead(out_channels, anchors, num_classes)\n",
        "        return model\n"
      ]
    },
    {
      "cell_type": "code",
      "execution_count": 101,
      "metadata": {
        "id": "6TTgHw_gM8v1"
      },
      "outputs": [],
      "source": [
        "def collate_fn(batch):\n",
        "    return tuple(zip(*batch))"
      ]
    },
    {
      "cell_type": "code",
      "execution_count": 102,
      "metadata": {
        "id": "hht2sypAM8tA"
      },
      "outputs": [],
      "source": [
        "def get_transform(train):\n",
        "    if train:\n",
        "        return A.Compose([\n",
        "            A.ImageCompression(quality_lower=60, quality_upper=100, p=0.5),\n",
        "            ToTensorV2(p=1.0)\n",
        "        ], bbox_params={'format': 'pascal_voc', 'label_fields': ['labels']})\n",
        "    else:\n",
        "        return A.Compose([\n",
        "            ToTensorV2(p=1.0)\n",
        "        ], bbox_params={'format': 'pascal_voc', 'label_fields': ['labels']})"
      ]
    },
    {
      "cell_type": "code",
      "execution_count": 103,
      "metadata": {
        "id": "Z7J3cigYlrnG",
        "colab": {
          "base_uri": "https://localhost:8080/"
        },
        "outputId": "7285a94e-e970-48da-878c-04f4ffebf4c4"
      },
      "outputs": [
        {
          "output_type": "stream",
          "name": "stdout",
          "text": [
            "fig_files 3000\n",
            "json_files 3000\n"
          ]
        }
      ],
      "source": [
        "fig_folder = \"fig1\"\n",
        "json_folder = \"json1\"\n",
        "\n",
        "fig_files = sorted([f for f in os.listdir(fig_folder) if f.endswith(\".png\")])\n",
        "print('fig_files',len(fig_files))\n",
        "\n",
        "\n",
        "json_files = sorted([f for f in os.listdir(json_folder) if f.endswith(\".json\")])\n",
        "print('json_files',len(json_files))\n",
        "# Проверка количества файлов\n",
        "assert len(fig_files) == len(json_files)\n",
        "\n",
        "# Разделение на обучающую и тестовую выборки\n",
        "test_size = 0.2  # Процент тестовой выборки\n",
        "fig_train, fig_test, json_train, json_test = train_test_split(fig_files, json_files, test_size=test_size, random_state=42)"
      ]
    },
    {
      "cell_type": "code",
      "execution_count": 104,
      "metadata": {
        "id": "5rZyMz3unTPn"
      },
      "outputs": [],
      "source": [
        "# Исходные папки и папки назначения\n",
        "source_fig_folder = \"fig1\"\n",
        "source_json_folder = \"json1\"\n",
        "dest_train_fig_folder = \"train1/fig\"\n",
        "dest_train_json_folder = \"train1/json\"\n",
        "dest_test_fig_folder = \"test1/fig\"\n",
        "dest_test_json_folder = \"test1/json\"\n",
        "\n",
        "# Создание папок назначения\n",
        "os.makedirs(dest_train_fig_folder, exist_ok=True)\n",
        "os.makedirs(dest_train_json_folder, exist_ok=True)\n",
        "os.makedirs(dest_test_fig_folder, exist_ok=True)\n",
        "os.makedirs(dest_test_json_folder, exist_ok=True)\n",
        "\n",
        "# Перемещение файлов в папки назначения\n",
        "for fig_file, json_file in zip(fig_files, json_files):\n",
        "    if fig_file in fig_train:\n",
        "        shutil.copy(os.path.join(source_fig_folder, fig_file), os.path.join(dest_train_fig_folder, fig_file))\n",
        "        shutil.copy(os.path.join(source_json_folder, json_file), os.path.join(dest_train_json_folder, json_file))\n",
        "    else:\n",
        "        shutil.copy(os.path.join(source_fig_folder, fig_file), os.path.join(dest_test_fig_folder, fig_file))\n",
        "        shutil.copy(os.path.join(source_json_folder, json_file), os.path.join(dest_test_json_folder, json_file))"
      ]
    },
    {
      "cell_type": "code",
      "execution_count": 105,
      "metadata": {
        "id": "SApevV2-M84K",
        "colab": {
          "base_uri": "https://localhost:8080/",
          "height": 468
        },
        "outputId": "a117489f-016e-41e7-f44d-860eec90d680"
      },
      "outputs": [
        {
          "output_type": "display_data",
          "data": {
            "text/plain": [
              "<Figure size 500x500 with 1 Axes>"
            ],
            "image/png": "[encoded data removed]"
          },
          "metadata": {}
        }
      ],
      "source": [
        "# Создание экземпляра CustomDataset\n",
        "train = CustomDataset(image_folder= '/content/train1/fig',\n",
        "                                json_folder= '/content/train1/json',\n",
        "                                transforms = get_transform(train = True))\n",
        "\n",
        "test= CustomDataset(image_folder= '/content/test1/fig',\n",
        "                                json_folder= '/content/test1/json',\n",
        "                                transforms = get_transform(train= False))\n",
        "\n",
        "# Получение доступа к единичному примеру\n",
        "sample = train[0]\n",
        "\n",
        "image = sample[0]  # Доступ к картинке\n",
        "target = sample[1]  # Доступ к target\n",
        "\n",
        "# Визуализация картинки с описывающим прямоугольником\n",
        "plot_img_bbox(image, target, train.class_labels, aug = True)"
      ]
    },
    {
      "cell_type": "code",
      "execution_count": 106,
      "metadata": {
        "id": "Z3yg49anM8qK"
      },
      "outputs": [],
      "source": [
        "def form_loader(dataset,dataset_test ):\n",
        "  train_data, val_data = train_test_split(dataset, test_size=0.1, random_state=101)\n",
        "\n",
        "  train_loader = torch.utils.data.DataLoader(\n",
        "    train_data, batch_size = 5, shuffle=True, num_workers=2,\n",
        "    collate_fn=collate_fn)\n",
        "\n",
        "  val_loader = torch.utils.data.DataLoader(\n",
        "      val_data, batch_size = 5, shuffle=True, num_workers=2,\n",
        "      collate_fn=collate_fn, drop_last = True)\n",
        "\n",
        "  test_loader = torch.utils.data.DataLoader(\n",
        "      dataset_test, batch_size=5, shuffle=False, num_workers=2,\n",
        "      collate_fn=collate_fn, drop_last = True)\n",
        "\n",
        "  return train_loader, val_loader, test_loader"
      ]
    },
    {
      "cell_type": "code",
      "execution_count": 107,
      "metadata": {
        "id": "3yzNgWyWM8nj",
        "colab": {
          "base_uri": "https://localhost:8080/"
        },
        "outputId": "03dffbb0-b90b-45ed-add6-5dbe69168c42"
      },
      "outputs": [
        {
          "output_type": "stream",
          "name": "stderr",
          "text": [
            "/usr/local/lib/python3.10/dist-packages/albumentations/augmentations/functional.py:487: UserWarning: Image compression augmentation is most effective with uint8 inputs, float32 is used as input.\n",
            "  warn(\n"
          ]
        }
      ],
      "source": [
        "train_loader_RCNN, val_loader_RCNN, test_loader_RCNN = form_loader(train, test)"
      ]
    },
    {
      "cell_type": "code",
      "execution_count": 108,
      "metadata": {
        "id": "Bk8rbBOsM8k0"
      },
      "outputs": [],
      "source": [
        "n_batches, n_batches_test = len(train_loader_RCNN), len(val_loader_RCNN)"
      ]
    },
    {
      "cell_type": "code",
      "execution_count": 109,
      "metadata": {
        "id": "PDOZHGRqM8iD",
        "colab": {
          "base_uri": "https://localhost:8080/"
        },
        "outputId": "33564792-3a24-4537-d82b-f0c0b29238da"
      },
      "outputs": [
        {
          "output_type": "stream",
          "name": "stderr",
          "text": [
            "/usr/local/lib/python3.10/dist-packages/torchvision/models/_utils.py:208: UserWarning: The parameter 'pretrained' is deprecated since 0.13 and may be removed in the future, please use 'weights' instead.\n",
            "  warnings.warn(\n",
            "/usr/local/lib/python3.10/dist-packages/torchvision/models/_utils.py:223: UserWarning: Arguments other than a weight enum or `None` for 'weights' are deprecated since 0.13 and may be removed in the future. The current behavior is equivalent to passing `weights=SSD300_VGG16_Weights.COCO_V1`. You can also use `weights=SSD300_VGG16_Weights.DEFAULT` to get the most up-to-date weights.\n",
            "  warnings.warn(msg)\n"
          ]
        }
      ],
      "source": [
        "device = torch.device('cuda') if torch.cuda.is_available() else torch.device('cpu')\n",
        "num_classes = 5\n",
        "modelName = 'SSD_300'\n",
        "model_RCNN = get_model(num_classes, modelName)\n",
        "model_RCNN.to(device)\n",
        "learning_rate = 1e-4\n",
        "optimizer = torch.optim.Adam(model_RCNN.parameters(), lr=learning_rate, weight_decay=0.005)\n",
        "lr_scheduler = torch.optim.lr_scheduler.StepLR(optimizer, step_size=3, gamma=0.1)"
      ]
    },
    {
      "cell_type": "code",
      "execution_count": 110,
      "metadata": {
        "id": "mSI2LiPtM8fc"
      },
      "outputs": [],
      "source": [
        "def train_model(model, data_loader=None,val_loader=None, num_epoch=10):\n",
        "    metric = MeanAveragePrecision()\n",
        "    loss_accum_list = []\n",
        "    map_list = []\n",
        "    sum_image = 0\n",
        "\n",
        "    # Словарь для подсчета количества натренированных фигур\n",
        "    class_counts = {class_label: 0 for class_label in train.class_labels}\n",
        "\n",
        "    for epoch in range(1, num_epoch + 1):\n",
        "        print(f\"Starting epoch {epoch} of {num_epoch}\")\n",
        "        time_start = time.time()\n",
        "        loss_accum = 0.0\n",
        "        model.train()\n",
        "\n",
        "        for batch_idx, (images, targets) in enumerate(data_loader, 1):\n",
        "            # Predict\n",
        "            images = list(image.to(device) for image in images)\n",
        "            targets = [{k: v.to(device) for k, v in t.items()} for t in targets]\n",
        "            loss_dict = model(images, targets)\n",
        "            loss = sum(loss for loss in loss_dict.values())\n",
        "\n",
        "            # Backprop\n",
        "            optimizer.zero_grad()\n",
        "            loss.backward()\n",
        "            optimizer.step()\n",
        "\n",
        "            # Logging\n",
        "            loss_accum += loss.item()\n",
        "\n",
        "            # Обновление словаря количества натренированных фигур\n",
        "            for target in targets:\n",
        "                labels = target[\"labels\"]\n",
        "                for label in labels:\n",
        "                    class_counts[train.class_labels[label]] += 1\n",
        "\n",
        "            sum_image += len(images)\n",
        "\n",
        "        lr_scheduler.step()\n",
        "\n",
        "        # Train losses\n",
        "        train_loss = loss_accum / n_batches\n",
        "        loss_accum_list.append(train_loss)\n",
        "\n",
        "        elapsed = time.time() - time_start\n",
        "        prefix = f\"[Epoch {epoch:2d} / {num_epoch:2d}]\"\n",
        "        print(f\"{prefix} Train loss: {train_loss:7.3f} [{elapsed:.0f} secs]\", end=' | ')\n",
        "\n",
        "        if epoch == 1:\n",
        "            torch.save(model.state_dict(), \"model_checkpoint2.pth\")\n",
        "\n",
        "        if epoch == num_epoch:\n",
        "            torch.save(model.state_dict(), \"model_checkpoint5.pth\")\n",
        "\n",
        "        preds_single = []\n",
        "        targets_single = []\n",
        "\n",
        "        for batch_idx, (images, targets) in enumerate(val_loader, 1):\n",
        "\n",
        "            images = list(image.to(device) for image in images)\n",
        "            targets = [{k: v.to(device) for k, v in t.items()} for t in targets]\n",
        "\n",
        "            targets_single.extend(targets)\n",
        "\n",
        "            model.eval()\n",
        "            with torch.no_grad():\n",
        "                pred = model(images)\n",
        "\n",
        "            preds_single.extend(pred)\n",
        "\n",
        "        metric.update(preds_single, targets_single)\n",
        "        batch_map = metric.compute()\n",
        "        map_list.append(batch_map['map'])\n",
        "        print(f\"Val mAP: {batch_map['map']}\")\n",
        "\n",
        "        clear_output(wait=True)\n",
        "        plt.figure(figsize=(16,9))\n",
        "        plt.grid(True)\n",
        "        plt.plot(loss_accum_list, label='Train loss')\n",
        "        plt.plot(map_list, label='map_list')\n",
        "        plt.legend()\n",
        "        plt.xlabel('epoch')\n",
        "        plt.ylabel('loss')\n",
        "        plt.suptitle('%d / %d - loss: %f , map: %f' % (num_epoch, epoch, loss_accum_list[-1], map_list[-1]))\n",
        "        plt.show()\n",
        "\n",
        "        print('sum_image', sum_image)\n",
        "            # Вывод суммарного количества натренированных фигур\n",
        "        for class_label, count in class_counts.items():\n",
        "            print(f\"{class_label}: {count} images\")\n",
        "\n",
        "    return model, loss_accum_list, map_list"
      ]
    },
    {
      "cell_type": "code",
      "execution_count": 111,
      "metadata": {
        "id": "1HyyeD3_M8aD",
        "colab": {
          "base_uri": "https://localhost:8080/",
          "height": 967
        },
        "outputId": "77eccc45-9a70-4b34-ad37-52981f679918"
      },
      "outputs": [
        {
          "output_type": "display_data",
          "data": {
            "text/plain": [
              "<Figure size 1600x900 with 1 Axes>"
            ],
            "image/png": "[encoded data removed]"
          },
          "metadata": {}
        },
        {
          "output_type": "stream",
          "name": "stdout",
          "text": [
            "sum_image 13032\n",
            "_: 0 images\n",
            "hexagon: 9138 images\n",
            "triangle: 9684 images\n",
            "circle: 9678 images\n",
            "rhombus: 9804 images\n"
          ]
        }
      ],
      "source": [
        "num_epoch = 6\n",
        "model_RCNN, train_loss_RCNN, map_list_RCNN = train_model(model_RCNN, train_loader_RCNN, test_loader_RCNN, num_epoch)"
      ]
    },
    {
      "cell_type": "code",
      "execution_count": 112,
      "metadata": {
        "id": "6iXVv637M8US"
      },
      "outputs": [],
      "source": [
        "def metric_test(model, test_loader):\n",
        "    metric = MeanAveragePrecision()\n",
        "\n",
        "    preds_single = []\n",
        "    targets_single = []\n",
        "\n",
        "    for batch_idx, (images, targets) in enumerate(test_loader, 1):\n",
        "\n",
        "        images = list(image.to(device) for image in images)\n",
        "        targets = [{k: v.to(device) for k, v in t.items()} for t in targets]\n",
        "\n",
        "        targets_single.extend(targets)\n",
        "\n",
        "        model.eval()\n",
        "        with torch.no_grad():\n",
        "            pred = model(images)\n",
        "\n",
        "        preds_single.extend(pred)\n",
        "\n",
        "    metric.update(preds_single, targets_single)\n",
        "    test_map = metric.compute()\n",
        "\n",
        "    print(f\"Test mAP: {test_map['map']}\")"
      ]
    },
    {
      "cell_type": "code",
      "source": [
        "checkpoint = torch.load(\"model_checkpoint5.pth\")\n",
        "model_RCNN.load_state_dict(checkpoint)\n",
        "model5 =  model_RCNN"
      ],
      "metadata": {
        "id": "t5UG2fX9-BeG"
      },
      "execution_count": 138,
      "outputs": []
    },
    {
      "cell_type": "code",
      "execution_count": 139,
      "metadata": {
        "id": "64jbzUOBM8RZ",
        "colab": {
          "base_uri": "https://localhost:8080/"
        },
        "outputId": "c4ee9dc2-5476-4fd6-908f-0ab203f82694"
      },
      "outputs": [
        {
          "output_type": "stream",
          "name": "stdout",
          "text": [
            "Test mAP: 0.8275060653686523\n"
          ]
        }
      ],
      "source": [
        "metric_test(model5, test_loader_RCNN)"
      ]
    },
    {
      "cell_type": "markdown",
      "metadata": {
        "id": "gliXtw0o5SoM"
      },
      "source": [
        "### Предсказание IOU для одной картинки"
      ]
    },
    {
      "cell_type": "code",
      "execution_count": 140,
      "metadata": {
        "id": "R7Q92296M8Oy"
      },
      "outputs": [],
      "source": [
        "def apply_threshold(prediction,threshold=0.15):\n",
        "    index = prediction['scores'] > threshold\n",
        "    pred = prediction.copy()\n",
        "    pred['boxes'] = pred['boxes'][index]\n",
        "    pred['scores'] = pred['scores'][index]\n",
        "    pred['labels'] = pred['labels'][index]\n",
        "\n",
        "    return pred\n",
        "\n",
        "def apply_threshold_batch(prediction,threshold=0.15 ):\n",
        "    preds = []\n",
        "\n",
        "    for data in prediction:\n",
        "        preds.append(apply_threshold(data, threshold))\n",
        "\n",
        "    return preds"
      ]
    },
    {
      "cell_type": "code",
      "execution_count": 141,
      "metadata": {
        "id": "rUSupgE_1yS6"
      },
      "outputs": [],
      "source": [
        "def plot_custom_img_bbox(image, prediction, target, class_labels):\n",
        "    fig, ax = plt.subplots(1)\n",
        "    fig.set_size_inches(5, 5)\n",
        "\n",
        "    if isinstance(image, torch.Tensor):\n",
        "        image = transforms.ToPILImage()(image.cpu()).convert('RGB')\n",
        "\n",
        "    ax.imshow(image)\n",
        "\n",
        "    # Отрисовка предсказанных ограничивающих рамок\n",
        "    pred_boxes = prediction['boxes'].cpu().detach().numpy()\n",
        "    pred_labels = prediction['labels'].cpu().detach().numpy()\n",
        "    for box, label_idx in zip(pred_boxes, pred_labels):\n",
        "        x1, y1, x2, y2 = box\n",
        "        label = class_labels[label_idx.item()]  # Преобразуем тензор метки в скаляр\n",
        "        rect = patches.Rectangle((x1, y1), x2 - x1, y2 - y1, linewidth=2, edgecolor='r', facecolor='none', label=f'Predicted {label}')\n",
        "        ax.add_patch(rect)\n",
        "        ax.text(x1, y1, label, color='r', backgroundcolor='none', fontsize=12)\n",
        "\n",
        "    # Отрисовка действительных ограничивающих рамок (из целевых данных)\n",
        "    true_boxes = target['boxes'].cpu().detach().numpy()\n",
        "    true_labels = target['labels'].cpu().detach().numpy()\n",
        "    for box, label_idx in zip(true_boxes, true_labels):\n",
        "        x1, y1, x2, y2 = box\n",
        "        label = class_labels[label_idx.item()]  # Преобразуем тензор метки в скаляр\n",
        "        rect = patches.Rectangle((x1, y1), x2 - x1, y2 - y1, linewidth=2, edgecolor='g', facecolor='none', label=f'True {label}')\n",
        "        ax.add_patch(rect)\n",
        "\n",
        "    plt.show()"
      ]
    },
    {
      "cell_type": "code",
      "execution_count": 142,
      "metadata": {
        "id": "sVOjdnh5tG_G"
      },
      "outputs": [],
      "source": [
        "def calculate_iou(box1, box2):\n",
        "    # box1 и box2 представлены в формате [x1, y1, x2, y2], где (x1, y1) - левый верхний угол, (x2, y2) - правый нижний угол\n",
        "    # Площадь ограничивающей рамки box1\n",
        "    area1 = (box1[2] - box1[0]) * (box1[3] - box1[1])\n",
        "\n",
        "    # Площадь ограничивающей рамки box2\n",
        "    area2 = (box2[2] - box2[0]) * (box2[3] - box2[1])\n",
        "\n",
        "    # Находим координаты области пересечения\n",
        "    x1 = max(box1[0], box2[0])\n",
        "    y1 = max(box1[1], box2[1])\n",
        "    x2 = min(box1[2], box2[2])\n",
        "    y2 = min(box1[3], box2[3])\n",
        "\n",
        "    # Проверка на пересечение\n",
        "    if x1 < x2 and y1 < y2:\n",
        "        # Площадь области пересечения\n",
        "        intersection_area = (x2 - x1) * (y2 - y1)\n",
        "        # IoU\n",
        "        iou = intersection_area / (area1 + area2 - intersection_area)\n",
        "        return iou\n",
        "    else:\n",
        "        return 0.0"
      ]
    },
    {
      "cell_type": "code",
      "execution_count": 143,
      "metadata": {
        "id": "Q4h0mpF39aye"
      },
      "outputs": [],
      "source": [
        "def iou_func(targets, filtered_preds, i):\n",
        "    # Инициализируем список для хранения значений IoU\n",
        "    iou_values = []\n",
        "\n",
        "    # Перебираем все действительные ограничивающие рамки\n",
        "    for true_box in targets[i]['boxes'].cpu().detach().numpy():\n",
        "        max_iou = 0  # Инициализируем максимальное значение IoU для данной действительной рамки\n",
        "        for pred_box in filtered_preds[i]['boxes'].cpu().detach().numpy():\n",
        "            iou = calculate_iou(pred_box, true_box)\n",
        "            max_iou = max(max_iou, iou)  # Обновляем максимальное значение IoU\n",
        "        iou_values.append(max_iou)  # Добавляем максимальное значение IoU\n",
        "\n",
        "    # Вычисляем среднее значение IoU только для ненулевых значений\n",
        "    average_iou = sum(iou_values) / len(iou_values)\n",
        "    return average_iou"
      ]
    },
    {
      "cell_type": "code",
      "source": [
        "def calculate_precision_recall(tp, fp, fn):\n",
        "    precision = tp / (tp + fp + 1e-6)  # Добавлено 1e-6 для избежания деления на ноль\n",
        "    recall = tp / (tp + fn + 1e-6)\n",
        "    return precision, recall"
      ],
      "metadata": {
        "id": "xp0Qih7sAwAY"
      },
      "execution_count": 144,
      "outputs": []
    },
    {
      "cell_type": "code",
      "source": [
        "def calculate_tp_fp_fn(model, iou_threshold=0.5):\n",
        "    tp = 0\n",
        "    fp = 0\n",
        "    fn = 0\n",
        "    total_objects = 0\n",
        "\n",
        "    for i, (image, target) in enumerate(test_loader_RCNN, 1):\n",
        "        # Преобразование изображения и целевой информации на устройство\n",
        "        image = list(img.to(device) for img in image)\n",
        "        target = [{k: v.to(device) for k, v in t.items()} for t in target]\n",
        "\n",
        "        # Получение предсказаний модели\n",
        "        with torch.no_grad():\n",
        "            pred = model(image)\n",
        "            pred = apply_threshold_batch(pred, threshold=0.5)\n",
        "\n",
        "        # Итерация по предсказаниям и целям\n",
        "        for j, prediction in enumerate(pred):\n",
        "            # Истинные ограничивающие рамки и метки\n",
        "            true_boxes = target[j]['boxes'].cpu().detach().numpy()\n",
        "            true_labels = target[j]['labels'].cpu().detach().numpy()\n",
        "\n",
        "            # Предсказанные ограничивающие рамки, метки и оценки\n",
        "            pred_boxes = prediction['boxes'].cpu().detach().numpy()\n",
        "            pred_labels = prediction['labels'].cpu().detach().numpy()\n",
        "            pred_scores = prediction['scores'].cpu().detach().numpy()\n",
        "\n",
        "            # Создание массива булевых значений, где True, если IoU > порога\n",
        "            iou_matrix = np.zeros((len(true_boxes), len(pred_boxes)), dtype=bool)\n",
        "            for true_idx, true_box in enumerate(true_boxes):\n",
        "                for pred_idx, pred_box in enumerate(pred_boxes):\n",
        "                    iou = calculate_iou(true_box, pred_box)\n",
        "                    iou_matrix[true_idx, pred_idx] = iou > iou_threshold\n",
        "\n",
        "            # Вычисление TP и FP\n",
        "            used_preds = set()  # Хранит индексы предсказаний, которые уже использованы как TP или FP\n",
        "            for true_idx, true_label in enumerate(true_labels):\n",
        "                for pred_idx, pred_label in enumerate(pred_labels):\n",
        "                    if iou_matrix[true_idx, pred_idx] and true_label == pred_label and true_idx not in used_preds:\n",
        "                        tp += 1\n",
        "                        used_preds.add(true_idx)\n",
        "\n",
        "                    elif iou_matrix[true_idx, pred_idx] and true_label != pred_label and true_idx not in used_preds:\n",
        "                        fp += 1\n",
        "                        used_preds.add(true_idx)\n",
        "\n",
        "            total_objects += len(target[j]['labels'])\n",
        "            # Вычисление FN\n",
        "            fn = total_objects - fp- tp\n",
        "\n",
        "    return tp, fp, fn"
      ],
      "metadata": {
        "id": "ysIFD3mbI9GC"
      },
      "execution_count": 145,
      "outputs": []
    },
    {
      "cell_type": "code",
      "source": [
        "total_objects = 0\n",
        "\n",
        "for images, targets in train_loader_RCNN:\n",
        "    for target in targets:\n",
        "        total_objects += len(target['labels'])\n",
        "\n",
        "print(f\"Общее количество объектов в тестовой выборке: {total_objects}\")"
      ],
      "metadata": {
        "id": "T6qaH-s3ERhm",
        "colab": {
          "base_uri": "https://localhost:8080/"
        },
        "outputId": "56c28d9a-f856-4222-e6e7-33e145faffe6"
      },
      "execution_count": 146,
      "outputs": [
        {
          "output_type": "stream",
          "name": "stdout",
          "text": [
            "Общее количество объектов в тестовой выборке: 6384\n"
          ]
        }
      ]
    },
    {
      "cell_type": "code",
      "source": [
        "# Пример использования:\n",
        "# Замените last_batch на фактический батч данных из вашего test_loader_RCNN.\n",
        "tp, fp, fn = calculate_tp_fp_fn(model5, iou_threshold=0.75)\n",
        "\n",
        "print(f\"True Positives (TP): {tp}\")\n",
        "print(f\"False Positives (FP): {fp}\")\n",
        "print(f\"False Negatives (FN): {fn}\")\n",
        "print(f\"Sum: {tp+fp+fn}\")\n"
      ],
      "metadata": {
        "id": "_dl-DQ97BeCm",
        "colab": {
          "base_uri": "https://localhost:8080/"
        },
        "outputId": "ecd3608e-c959-4d33-8430-927f3b1bf58a"
      },
      "execution_count": 147,
      "outputs": [
        {
          "output_type": "stream",
          "name": "stdout",
          "text": [
            "True Positives (TP): 1862\n",
            "False Positives (FP): 1\n",
            "False Negatives (FN): 4\n",
            "Sum: 1867\n"
          ]
        }
      ]
    },
    {
      "cell_type": "code",
      "source": [
        "precision, recall = calculate_precision_recall(tp, fp, fn)\n",
        "\n",
        "print(f\"Precision: {precision:.4f}\")\n",
        "print(f\"Recall: {recall:.4f}\")"
      ],
      "metadata": {
        "id": "zeeekfvbCHKo",
        "colab": {
          "base_uri": "https://localhost:8080/"
        },
        "outputId": "a4561539-7215-49ec-c770-639f4bb8ae29"
      },
      "execution_count": 148,
      "outputs": [
        {
          "output_type": "stream",
          "name": "stdout",
          "text": [
            "Precision: 0.9995\n",
            "Recall: 0.9979\n"
          ]
        }
      ]
    },
    {
      "cell_type": "code",
      "execution_count": 149,
      "metadata": {
        "id": "l6_r-cHWsStL",
        "colab": {
          "base_uri": "https://localhost:8080/"
        },
        "outputId": "5ec18b9d-c25f-44c5-8b26-0c93a34fd092"
      },
      "outputs": [
        {
          "output_type": "stream",
          "name": "stdout",
          "text": [
            "Количество картинок в test_loader_RCNN: 613\n"
          ]
        }
      ],
      "source": [
        "num_images = len(test_loader_RCNN.dataset)\n",
        "print(f\"Количество картинок в test_loader_RCNN: {num_images}\")"
      ]
    },
    {
      "cell_type": "code",
      "execution_count": 150,
      "metadata": {
        "id": "uwwgJWLc_54G"
      },
      "outputs": [],
      "source": [
        "def mmm(model):\n",
        "    aver = []\n",
        "    count = 0\n",
        "    # Итерация по данным из test_loader_RCNN\n",
        "    for i, (image, target) in enumerate(test_loader_RCNN, 1):\n",
        "        # Преобразование изображения и целевой информации на устройство\n",
        "        image = list(img.to(device) for img in image)\n",
        "        target = [{k: v.to(device) for k, v in t.items()} for t in target]\n",
        "        # Получение предсказаний модели\n",
        "        model.eval()\n",
        "        with torch.no_grad():\n",
        "            pred = model5(image)\n",
        "            pred1 = apply_threshold_batch(pred, threshold=0.5)\n",
        "\n",
        "        for j in range(5):\n",
        "            # print('count', count)\n",
        "            av = iou_func(target, pred1,j)\n",
        "            aver.append(av)\n",
        "            # plot_custom_img_bbox(image[j], pred1[j], target[j], train.class_labels)\n",
        "            count += 1\n",
        "    return aver"
      ]
    },
    {
      "cell_type": "code",
      "source": [
        "def iou_my(model, index):\n",
        "    model.eval()\n",
        "    image, target = test_loader_RCNN.dataset[index]\n",
        "    pred = model([image.to(device)])\n",
        "    iou_pred = apply_threshold_batch(pred, threshold=0.5)\n",
        "    return image, iou_pred, target"
      ],
      "metadata": {
        "id": "xKisDaAW496M"
      },
      "execution_count": 151,
      "outputs": []
    },
    {
      "cell_type": "code",
      "source": [
        "aver = mmm(model5)\n",
        "max_index = aver.index(max(aver))\n",
        "min_index = aver.index(min(aver))\n",
        "med_index = aver.index(mode(aver))\n",
        "\n",
        "max_image, max_pred, max_target = iou_my(model5,max_index)\n",
        "min_image, min_pred, min_target = iou_my(model5,min_index)\n",
        "med_image, med_pred, med_target = iou_my(model5,med_index)"
      ],
      "metadata": {
        "id": "JFTmCr7SVyWD"
      },
      "execution_count": 152,
      "outputs": []
    },
    {
      "cell_type": "code",
      "source": [
        "# Создайте распределение с помощью Seaborn\n",
        "sns.histplot(aver, bins=10, kde=True)  # Вы можете настроить количество бинов (колонок) и отображение ядерной оценки плотности\n",
        "plt.xlabel('Значения')\n",
        "plt.ylabel('Частота')\n",
        "plt.title('Распределение значений')\n",
        "plt.show()"
      ],
      "metadata": {
        "id": "JDE_nkZh2N1X",
        "colab": {
          "base_uri": "https://localhost:8080/",
          "height": 472
        },
        "outputId": "305d287f-6a07-4a68-febe-5a279130c8b1"
      },
      "execution_count": 153,
      "outputs": [
        {
          "output_type": "display_data",
          "data": {
            "text/plain": [
              "<Figure size 640x480 with 1 Axes>"
            ],
            "image/png": "[encoded data removed]"
          },
          "metadata": {}
        }
      ]
    },
    {
      "cell_type": "code",
      "execution_count": 154,
      "metadata": {
        "id": "7GaIHDwkxV6-",
        "colab": {
          "base_uri": "https://localhost:8080/",
          "height": 1000
        },
        "outputId": "e75d66d7-e4cd-49d9-ed2a-f3ef02545cc4"
      },
      "outputs": [
        {
          "output_type": "stream",
          "name": "stdout",
          "text": [
            "IOU - наибольшего значения 0.9843464493751526\n"
          ]
        },
        {
          "output_type": "display_data",
          "data": {
            "text/plain": [
              "<Figure size 500x500 with 1 Axes>"
            ],
            "image/png": "[encoded data removed]"
          },
          "metadata": {}
        },
        {
          "output_type": "stream",
          "name": "stdout",
          "text": [
            "IOU - наименьшего значения 0.6299730936686198\n"
          ]
        },
        {
          "output_type": "display_data",
          "data": {
            "text/plain": [
              "<Figure size 500x500 with 1 Axes>"
            ],
            "image/png": "[encoded data removed]"
          },
          "metadata": {}
        },
        {
          "output_type": "stream",
          "name": "stdout",
          "text": [
            "IOU - среднего значения 0.8951438069343567\n"
          ]
        },
        {
          "output_type": "display_data",
          "data": {
            "text/plain": [
              "<Figure size 500x500 with 1 Axes>"
            ],
            "image/png": "[encoded data removed]"
          },
          "metadata": {}
        }
      ],
      "source": [
        "print('IOU - наибольшего значения', max(aver))\n",
        "plot_custom_img_bbox(max_image, max_pred[0], max_target, train.class_labels)\n",
        "\n",
        "print('IOU - наименьшего значения', min(aver))\n",
        "plot_custom_img_bbox(min_image, min_pred[0], min_target, train.class_labels)\n",
        "\n",
        "print('IOU - среднего значения', mode(aver))\n",
        "plot_custom_img_bbox(med_image, med_pred[0], med_target, train.class_labels)"
      ]
    },
    {
      "cell_type": "markdown",
      "source": [
        "### Слабая модель"
      ],
      "metadata": {
        "id": "6z2QcNba9MLf"
      }
    },
    {
      "cell_type": "code",
      "source": [
        "checkpoint = torch.load(\"model_checkpoint2.pth\")\n",
        "model_RCNN.load_state_dict(checkpoint)\n",
        "model1 =  model_RCNN\n",
        "metric_test(model1, test_loader_RCNN)"
      ],
      "metadata": {
        "id": "ohpvI3NM5jAa",
        "colab": {
          "base_uri": "https://localhost:8080/"
        },
        "outputId": "ff8be817-2758-4eae-ee66-f7e71d9e742c"
      },
      "execution_count": 155,
      "outputs": [
        {
          "output_type": "stream",
          "name": "stderr",
          "text": [
            "/usr/local/lib/python3.10/dist-packages/torchmetrics/utilities/prints.py:43: UserWarning: Encountered more than 100 detections in a single image. This means that certain detections with the lowest scores will be ignored, that may have an undesirable impact on performance. Please consider adjusting the `max_detection_threshold` to suit your use case. To disable this warning, set attribute class `warn_on_many_detections=False`, after initializing the metric.\n",
            "  warnings.warn(*args, **kwargs)  # noqa: B028\n"
          ]
        },
        {
          "output_type": "stream",
          "name": "stdout",
          "text": [
            "Test mAP: 0.6432888507843018\n"
          ]
        }
      ]
    },
    {
      "cell_type": "code",
      "source": [
        "# Пример использования:\n",
        "# Замените last_batch на фактический батч данных из вашего test_loader_RCNN.\n",
        "tp, fp, fn = calculate_tp_fp_fn(model5, iou_threshold=0.65)\n",
        "\n",
        "print(f\"True Positives (TP): {tp}\")\n",
        "print(f\"False Positives (FP): {fp}\")\n",
        "print(f\"False Negatives (FN): {fn}\")\n",
        "print(f\"Sum: {tp+fp+fn}\")"
      ],
      "metadata": {
        "id": "2KBChRGcnxdj",
        "colab": {
          "base_uri": "https://localhost:8080/"
        },
        "outputId": "7626c803-1160-4170-db6f-feecb6e0125b"
      },
      "execution_count": 156,
      "outputs": [
        {
          "output_type": "stream",
          "name": "stdout",
          "text": [
            "True Positives (TP): 1768\n",
            "False Positives (FP): 60\n",
            "False Negatives (FN): 39\n",
            "Sum: 1867\n"
          ]
        }
      ]
    },
    {
      "cell_type": "code",
      "source": [
        "precision, recall = calculate_precision_recall(tp, fp, fn)\n",
        "\n",
        "print(f\"Precision: {precision:.4f}\")\n",
        "print(f\"Recall: {recall:.4f}\")"
      ],
      "metadata": {
        "id": "gc78xGcanyH2",
        "colab": {
          "base_uri": "https://localhost:8080/"
        },
        "outputId": "fdfabd5c-4f62-458c-da21-c55ecc73c578"
      },
      "execution_count": 157,
      "outputs": [
        {
          "output_type": "stream",
          "name": "stdout",
          "text": [
            "Precision: 0.9672\n",
            "Recall: 0.9784\n"
          ]
        }
      ]
    },
    {
      "cell_type": "code",
      "source": [
        "aver = mmm(model1)\n",
        "max_index = aver.index(max(aver))\n",
        "min_index = aver.index(min(aver))\n",
        "med_index = aver.index(mode(aver))"
      ],
      "metadata": {
        "id": "SG-vGQdaV2nY"
      },
      "execution_count": 158,
      "outputs": []
    },
    {
      "cell_type": "code",
      "source": [
        "# Создайте распределение с помощью Seaborn\n",
        "sns.histplot(aver, bins=10, kde=True)  # Вы можете настроить количество бинов (колонок) и отображение ядерной оценки плотности\n",
        "plt.xlabel('Значения')\n",
        "plt.ylabel('Частота')\n",
        "plt.title('Распределение значений')\n",
        "plt.show()"
      ],
      "metadata": {
        "id": "1hWyq0sSP0EE",
        "colab": {
          "base_uri": "https://localhost:8080/",
          "height": 472
        },
        "outputId": "4ca6c8b0-c31a-4dc5-c827-3a227f6b0e86"
      },
      "execution_count": 159,
      "outputs": [
        {
          "output_type": "display_data",
          "data": {
            "text/plain": [
              "<Figure size 640x480 with 1 Axes>"
            ],
            "image/png": "[encoded data removed]"
          },
          "metadata": {}
        }
      ]
    },
    {
      "cell_type": "code",
      "source": [
        "max_image, max_pred, max_target = iou_my(model1,max_index)\n",
        "min_image, min_pred, min_target = iou_my(model1,min_index)\n",
        "med_image, med_pred, med_target = iou_my(model1,med_index)"
      ],
      "metadata": {
        "id": "8zEErEuqV3FS"
      },
      "execution_count": 160,
      "outputs": []
    },
    {
      "cell_type": "code",
      "source": [
        "print('IOU - наибольшего значения', max(aver))\n",
        "plot_custom_img_bbox(max_image, max_pred[0], max_target, train.class_labels)\n",
        "\n",
        "print('IOU - наименьшего значения', min(aver))\n",
        "plot_custom_img_bbox(min_image, min_pred[0], min_target, train.class_labels)\n",
        "\n",
        "print('IOU - среднего значения', mode(aver))\n",
        "plot_custom_img_bbox(med_image, med_pred[0], med_target, train.class_labels)"
      ],
      "metadata": {
        "id": "bo7zFB58W3I9",
        "colab": {
          "base_uri": "https://localhost:8080/",
          "height": 1000
        },
        "outputId": "1401fddc-376b-44ad-a669-731caa765e46"
      },
      "execution_count": 161,
      "outputs": [
        {
          "output_type": "stream",
          "name": "stdout",
          "text": [
            "IOU - наибольшего значения 0.9628891944885254\n"
          ]
        },
        {
          "output_type": "display_data",
          "data": {
            "text/plain": [
              "<Figure size 500x500 with 1 Axes>"
            ],
            "image/png": "[encoded data removed]"
          },
          "metadata": {}
        },
        {
          "output_type": "stream",
          "name": "stdout",
          "text": [
            "IOU - наименьшего значения 0.0\n"
          ]
        },
        {
          "output_type": "display_data",
          "data": {
            "text/plain": [
              "<Figure size 500x500 with 1 Axes>"
            ],
            "image/png": "[encoded data removed]"
          },
          "metadata": {}
        },
        {
          "output_type": "stream",
          "name": "stdout",
          "text": [
            "IOU - среднего значения 0.0\n"
          ]
        },
        {
          "output_type": "display_data",
          "data": {
            "text/plain": [
              "<Figure size 500x500 with 1 Axes>"
            ],
            "image/png": "[encoded data removed]"
          },
          "metadata": {}
        }
      ]
    }
  ],
  "metadata": {
    "colab": {
      "provenance": [],
      "gpuType": "T4"
    },
    "kernelspec": {
      "display_name": "Python 3",
      "name": "python3"
    },
    "language_info": {
      "name": "python"
    },
    "accelerator": "GPU"
  },
  "nbformat": 4,
  "nbformat_minor": 0
}