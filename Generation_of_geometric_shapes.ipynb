{
  "cells": [
    {
      "cell_type": "code",
      "execution_count": 1,
      "metadata": {
        "colab": {
          "base_uri": "https://localhost:8080/"
        },
        "id": "VY4fujuTM9C9",
        "outputId": "68721a72-dc7e-4b71-901a-d9adde93dc6e"
      },
      "outputs": [
        {
          "output_type": "stream",
          "name": "stdout",
          "text": [
            "2.0.1+cu118\n"
          ]
        }
      ],
      "source": [
        "import random\n",
        "import math\n",
        "import json\n",
        "import os\n",
        "from PIL import Image, ImageDraw\n",
        "import seaborn as sns\n",
        "from IPython.display import clear_output\n",
        "from statistics import mode\n",
        "\n",
        "from torch.utils.data import Dataset\n",
        "import torchvision.transforms as transforms\n",
        "\n",
        "import os\n",
        "import shutil\n",
        "import numpy as np\n",
        "import matplotlib.pyplot as plt\n",
        "import matplotlib.patches as patches\n",
        "import cv2\n",
        "from xml.etree import ElementTree as et\n",
        "\n",
        "import torch\n",
        "import torchvision\n",
        "from torchvision import ops\n",
        "from torchvision.models.detection import fasterrcnn_resnet50_fpn\n",
        "from torchvision.models.detection.faster_rcnn import FastRCNNPredictor\n",
        "from torchvision.models.detection import ssd300_vgg16\n",
        "from torchvision import transforms\n",
        "\n",
        "import albumentations as A\n",
        "from albumentations.pytorch.transforms import ToTensorV2\n",
        "from sklearn.model_selection import train_test_split\n",
        "\n",
        "import time\n",
        "import argparse\n",
        "from PIL import Image\n",
        "from google.colab.patches import cv2_imshow\n",
        "import skimage\n",
        "from skimage import io\n",
        "from PIL import Image\n",
        "from urllib.request import urlopen\n",
        "\n",
        "%matplotlib inline\n",
        "\n",
        "print(torch.__version__)"
      ]
    },
    {
      "cell_type": "code",
      "source": [
        "%%bash\n",
        "pip install numpy scipy scikit-image matplotlib"
      ],
      "metadata": {
        "colab": {
          "base_uri": "https://localhost:8080/"
        },
        "id": "9tGrqpQGeDj2",
        "outputId": "a1f2f0a1-b8f5-4e13-c890-7bd4021a5478"
      },
      "execution_count": 2,
      "outputs": [
        {
          "output_type": "stream",
          "name": "stdout",
          "text": [
            "Requirement already satisfied: numpy in /usr/local/lib/python3.10/dist-packages (1.23.5)\n",
            "Requirement already satisfied: scipy in /usr/local/lib/python3.10/dist-packages (1.11.2)\n",
            "Requirement already satisfied: scikit-image in /usr/local/lib/python3.10/dist-packages (0.19.3)\n",
            "Requirement already satisfied: matplotlib in /usr/local/lib/python3.10/dist-packages (3.7.1)\n",
            "Requirement already satisfied: networkx>=2.2 in /usr/local/lib/python3.10/dist-packages (from scikit-image) (3.1)\n",
            "Requirement already satisfied: pillow!=7.1.0,!=7.1.1,!=8.3.0,>=6.1.0 in /usr/local/lib/python3.10/dist-packages (from scikit-image) (9.4.0)\n",
            "Requirement already satisfied: imageio>=2.4.1 in /usr/local/lib/python3.10/dist-packages (from scikit-image) (2.31.3)\n",
            "Requirement already satisfied: tifffile>=2019.7.26 in /usr/local/lib/python3.10/dist-packages (from scikit-image) (2023.8.30)\n",
            "Requirement already satisfied: PyWavelets>=1.1.1 in /usr/local/lib/python3.10/dist-packages (from scikit-image) (1.4.1)\n",
            "Requirement already satisfied: packaging>=20.0 in /usr/local/lib/python3.10/dist-packages (from scikit-image) (23.1)\n",
            "Requirement already satisfied: contourpy>=1.0.1 in /usr/local/lib/python3.10/dist-packages (from matplotlib) (1.1.0)\n",
            "Requirement already satisfied: cycler>=0.10 in /usr/local/lib/python3.10/dist-packages (from matplotlib) (0.11.0)\n",
            "Requirement already satisfied: fonttools>=4.22.0 in /usr/local/lib/python3.10/dist-packages (from matplotlib) (4.42.1)\n",
            "Requirement already satisfied: kiwisolver>=1.0.1 in /usr/local/lib/python3.10/dist-packages (from matplotlib) (1.4.5)\n",
            "Requirement already satisfied: pyparsing>=2.3.1 in /usr/local/lib/python3.10/dist-packages (from matplotlib) (3.1.1)\n",
            "Requirement already satisfied: python-dateutil>=2.7 in /usr/local/lib/python3.10/dist-packages (from matplotlib) (2.8.2)\n",
            "Requirement already satisfied: six>=1.5 in /usr/local/lib/python3.10/dist-packages (from python-dateutil>=2.7->matplotlib) (1.16.0)\n"
          ]
        }
      ]
    },
    {
      "cell_type": "code",
      "source": [
        "!pip install -U torchmetrics\n",
        "from torchmetrics.detection.mean_ap import MeanAveragePrecision"
      ],
      "metadata": {
        "colab": {
          "base_uri": "https://localhost:8080/"
        },
        "id": "dyYG2Gw8eHQp",
        "outputId": "5b15f00a-66ee-4ae4-b101-7e6d598f8aaf"
      },
      "execution_count": 3,
      "outputs": [
        {
          "output_type": "stream",
          "name": "stdout",
          "text": [
            "Collecting torchmetrics\n",
            "  Downloading torchmetrics-1.1.2-py3-none-any.whl (764 kB)\n",
            "\u001b[2K     \u001b[90m━━━━━━━━━━━━━━━━━━━━━━━━━━━━━━━━━━━━━━━\u001b[0m \u001b[32m764.8/764.8 kB\u001b[0m \u001b[31m8.5 MB/s\u001b[0m eta \u001b[36m0:00:00\u001b[0m\n",
            "\u001b[?25hRequirement already satisfied: numpy>1.20.0 in /usr/local/lib/python3.10/dist-packages (from torchmetrics) (1.23.5)\n",
            "Requirement already satisfied: torch>=1.8.1 in /usr/local/lib/python3.10/dist-packages (from torchmetrics) (2.0.1+cu118)\n",
            "Collecting lightning-utilities>=0.8.0 (from torchmetrics)\n",
            "  Downloading lightning_utilities-0.9.0-py3-none-any.whl (23 kB)\n",
            "Requirement already satisfied: packaging>=17.1 in /usr/local/lib/python3.10/dist-packages (from lightning-utilities>=0.8.0->torchmetrics) (23.1)\n",
            "Requirement already satisfied: typing-extensions in /usr/local/lib/python3.10/dist-packages (from lightning-utilities>=0.8.0->torchmetrics) (4.5.0)\n",
            "Requirement already satisfied: filelock in /usr/local/lib/python3.10/dist-packages (from torch>=1.8.1->torchmetrics) (3.12.2)\n",
            "Requirement already satisfied: sympy in /usr/local/lib/python3.10/dist-packages (from torch>=1.8.1->torchmetrics) (1.12)\n",
            "Requirement already satisfied: networkx in /usr/local/lib/python3.10/dist-packages (from torch>=1.8.1->torchmetrics) (3.1)\n",
            "Requirement already satisfied: jinja2 in /usr/local/lib/python3.10/dist-packages (from torch>=1.8.1->torchmetrics) (3.1.2)\n",
            "Requirement already satisfied: triton==2.0.0 in /usr/local/lib/python3.10/dist-packages (from torch>=1.8.1->torchmetrics) (2.0.0)\n",
            "Requirement already satisfied: cmake in /usr/local/lib/python3.10/dist-packages (from triton==2.0.0->torch>=1.8.1->torchmetrics) (3.27.4.1)\n",
            "Requirement already satisfied: lit in /usr/local/lib/python3.10/dist-packages (from triton==2.0.0->torch>=1.8.1->torchmetrics) (16.0.6)\n",
            "Requirement already satisfied: MarkupSafe>=2.0 in /usr/local/lib/python3.10/dist-packages (from jinja2->torch>=1.8.1->torchmetrics) (2.1.3)\n",
            "Requirement already satisfied: mpmath>=0.19 in /usr/local/lib/python3.10/dist-packages (from sympy->torch>=1.8.1->torchmetrics) (1.3.0)\n",
            "Installing collected packages: lightning-utilities, torchmetrics\n",
            "Successfully installed lightning-utilities-0.9.0 torchmetrics-1.1.2\n"
          ]
        }
      ]
    },
    {
      "cell_type": "code",
      "source": [
        "!pip install tqdm\n",
        "from tqdm import tqdm"
      ],
      "metadata": {
        "colab": {
          "base_uri": "https://localhost:8080/"
        },
        "id": "FhzwEa-Wmr8n",
        "outputId": "09f68fc5-d0a9-4cd8-a4bc-91bd47f1ab8e"
      },
      "execution_count": 4,
      "outputs": [
        {
          "output_type": "stream",
          "name": "stdout",
          "text": [
            "Requirement already satisfied: tqdm in /usr/local/lib/python3.10/dist-packages (4.66.1)\n"
          ]
        }
      ]
    },
    {
      "cell_type": "code",
      "source": [
        "class RandomShapesImageGenerator:\n",
        "    def __init__(self, width, height):\n",
        "        self.width = width\n",
        "        self.height = height\n",
        "        self.mask = [[False] * width for _ in range(height)]\n",
        "        self.boundary_boxes = []\n",
        "        self.fig_type = []\n",
        "\n",
        "    def generate_random_color(self):\n",
        "        red = random.randint(0, 255)\n",
        "        green = random.randint(0, 255)\n",
        "        blue = random.randint(0, 255)\n",
        "        return red, green, blue\n",
        "\n",
        "    def generate_non_overlapping_coords(self): # Генерация исходных координат по оси x, y\n",
        "        for _ in range(150):\n",
        "            x = random.randint(25, self.width - 25)\n",
        "            y = random.randint(25, self.height - 25)\n",
        "\n",
        "            # Проверка, находятся ли исходные координаты в пределах размеров изображения.\n",
        "            if 0 <= int(x) < self.width and 0 <= int(y) < self.height:\n",
        "\n",
        "                # Проверка, была ли эта точка в маске ранее занята (каким-либо другим элементом).\n",
        "                if not any(self.mask[int(y)][int(x)] for i in range(int(x) - 25, int(x) + 26) for j in range(int(y) - 25, int(y) + 26)):\n",
        "                    return x, y\n",
        "\n",
        "    def check_mask_overlap(self, x, y, size, angle): # Проверка на пересечение фигур\n",
        "        # Вычисление координаты пикселей, входящих в фигуру после вращения\n",
        "        rotated_pixels = set()\n",
        "        for i in range(y - size, y + size + 1):\n",
        "            for j in range(x - size, x + size + 1):\n",
        "                rotated_x, rotated_y = self.rotate_point((j, i), (x, y), -angle)  # Определение повернутых по оси координат\n",
        "                if 0 <= rotated_x < self.width and 0 <= rotated_y < self.height:\n",
        "                    rotated_pixels.add((int(rotated_x), int(rotated_y)))\n",
        "\n",
        "        # Проверка маски только для пикселей, занимаемых фигурой после вращения\n",
        "        for rotated_x, rotated_y in rotated_pixels:\n",
        "            if self.mask[rotated_y][rotated_x]:\n",
        "                return True\n",
        "        return False\n",
        "\n",
        "    def plot_image(self, image):\n",
        "        plt.figure(figsize=(6, 6))\n",
        "        plt.imshow(image)\n",
        "        plt.axis('off')\n",
        "        plt.show()\n",
        "\n",
        "    def generate_image(self):\n",
        "        image = Image.new(\"RGB\", (self.width, self.height))\n",
        "        draw = ImageDraw.Draw(image)\n",
        "        background_color = self.generate_random_color() # Генерация цвета фона\n",
        "        draw.rectangle([(0, 0), (self.width, self.height)], fill=background_color) # Создание изображения\n",
        "        num_shapes = random.randint(1, 5)\n",
        "\n",
        "        for _ in range(num_shapes):\n",
        "            shape_type = random.choice(['rhombus', 'triangle', 'circle', 'hexagon'])\n",
        "            self.fig_type.append(shape_type)\n",
        "            color = self.generate_random_color()\n",
        "            angle = random.uniform(0, 2 * math.pi)# Определение угла поворота фигуры\n",
        "            x, y = self.generate_non_overlapping_coords() # Генерация исходных координат по оси x, y\n",
        "            size = random.randint(25, min(self.width - x, self.height - y, x, y, 70)) # Определение размера фигуры\n",
        "            while self.check_mask_overlap(x, y, size, angle): # Проверка на пересечение фигур\n",
        "                x, y = self.generate_non_overlapping_coords()\n",
        "                size = 25\n",
        "\n",
        "            # Рисование фигуры и обработка маски с учетом угла\n",
        "            if shape_type == 'rhombus':\n",
        "                center_x = x\n",
        "                center_y = y  # Это координаты центра ромба\n",
        "                r1 = int(random.randint(0, 3)) # значение задающее изменчивость формы ромба\n",
        "                points = [(x, y - size), (x + size/2 + r1, y), (x, y + size), (x - size/2 - r1, y)]\n",
        "                rotated_points = [self.rotate_point(point, (center_x, center_y), angle) for point in points] # Вращение каждой точки относительно центра\n",
        "                draw.polygon(rotated_points, fill=color, outline=color) # Рисуем ромб\n",
        "\n",
        "                # Определение минимальной и максимальной координаты\n",
        "                min_x = min(rotated_x for rotated_x, _ in rotated_points)\n",
        "                max_x = max(rotated_x for rotated_x, _ in rotated_points)\n",
        "                min_y = min(rotated_y for _, rotated_y in rotated_points)\n",
        "                max_y = max(rotated_y for _, rotated_y in rotated_points)\n",
        "\n",
        "                # Создание границы вокруг ромба\n",
        "                self.boundary_boxes.append((min_x, min_y, max_x, max_y))\n",
        "                self.draw_rotated_rhombus(draw, color, x, y, size, angle, r1)\n",
        "                self.fill_mask(x, y, size)\n",
        "\n",
        "            elif shape_type == 'triangle':\n",
        "                # значения задающие изменчивость формы треугольника\n",
        "                t1 = int(random.randint(0, 3))\n",
        "                t2 = int(random.randint(0, 3))\n",
        "                t3 = int(random.randint(0, 3))\n",
        "                # Определение координаты вершин треугольника без учета вращения\n",
        "                x1, y1 = x, y - size - t1\n",
        "                x2, y2 = x + (size)/2 + t2, y\n",
        "                x3, y3 = x - (size)/2 - t3, y\n",
        "\n",
        "                # Вращение каждой вершины относительно центра\n",
        "                center_x = x\n",
        "                center_y = y\n",
        "                rotated_x1, rotated_y1 = self.rotate_point((x1, y1), (center_x, center_y), angle)\n",
        "                rotated_x2, rotated_y2 = self.rotate_point((x2, y2), (center_x, center_y), angle)\n",
        "                rotated_x3, rotated_y3 = self.rotate_point((x3, y3), (center_x, center_y), angle)\n",
        "\n",
        "                # Создание координат описывающего треугольника\n",
        "                min_x = min(rotated_x1, rotated_x2, rotated_x3)\n",
        "                max_x = max(rotated_x1, rotated_x2, rotated_x3)\n",
        "                min_y = min(rotated_y1, rotated_y2, rotated_y3)\n",
        "                max_y = max(rotated_y1, rotated_y2, rotated_y3)\n",
        "\n",
        "                # Определяем границу для треугольника\n",
        "                self.boundary_boxes.append((min_x, min_y, max_x, max_y))\n",
        "                self.draw_rotated_triangle(draw, color, x, y, size, angle, t1, t2, t3)\n",
        "\n",
        "                # Заполняем маску для текущего треугольника\n",
        "                self.fill_mask(x, y, size)\n",
        "\n",
        "            elif shape_type == 'circle':\n",
        "                self.draw_circle(draw, color, x, y, size)\n",
        "                self.fill_mask(x, y, size)\n",
        "                self.boundary_boxes.append((x - size, y - size, x + size, y + size))\n",
        "\n",
        "            elif shape_type == 'hexagon':\n",
        "                # Определяем вершины гексагона без учета вращения\n",
        "                center_x = x\n",
        "                center_y = y\n",
        "                points = []\n",
        "                for i in range(6):\n",
        "                    angle_offset = 2 * math.pi / 6 * i\n",
        "                    px = size * math.cos(angle_offset + angle)\n",
        "                    py = size * math.sin(angle_offset + angle)\n",
        "                    points.append((px, py))\n",
        "\n",
        "                # Переводим координаты обратно в систему координат изображения\n",
        "                rotated_points = [(center_x + px, center_y + py) for px, py in points]\n",
        "\n",
        "                # Определяем минимальные и максимальные значения координат\n",
        "                min_x = min(rotated_x for rotated_x, _ in rotated_points)\n",
        "                max_x = max(rotated_x for rotated_x, _ in rotated_points)\n",
        "                min_y = min(rotated_y for _, rotated_y in rotated_points)\n",
        "                max_y = max(rotated_y for _, rotated_y in rotated_points)\n",
        "\n",
        "                # Определяем границу для текущего вращенного гексагона\n",
        "                self.boundary_boxes.append((min_x, min_y, max_x, max_y))\n",
        "\n",
        "                # Рисуем вращенный гексагон\n",
        "                self.draw_hexagon(draw, color, x, y, size, angle)\n",
        "\n",
        "                # Заполняем маску для текущего гексагона\n",
        "                self.fill_mask(x, y, size)\n",
        "        return image\n",
        "\n",
        "    def draw_rotated_rhombus(self, draw, color, x, y, size, angle, t1):\n",
        "        center_x = x\n",
        "        center_y = y  # Координаты центра ромба\n",
        "        points = [(x, y - size), (x + size/2 + t1, y), (x, y + size), (x - size/2 - t1, y)]\n",
        "\n",
        "        # Вращаем каждую точку относительно центра\n",
        "        rotated_points = [self.rotate_point(point, (center_x, center_y), angle) for point in points]\n",
        "\n",
        "        # Рисуем ромб\n",
        "        draw.polygon(rotated_points, fill=color, outline=color)\n",
        "\n",
        "    def draw_rotated_triangle(self, draw, color, x, y, size, angle, t1, t2, t3):\n",
        "        center_x = x\n",
        "        center_y = y  # Координаты центра треугольника\n",
        "        points = [(x, y - size - t1), (x + size/2 + t2, y), (x - size/2 - t3, y)]\n",
        "\n",
        "        # Вращаем каждую точку относительно центра\n",
        "        rotated_points = [self.rotate_point(point, (center_x, center_y), angle) for point in points]\n",
        "\n",
        "        # Рисуем треугольник\n",
        "        draw.polygon(rotated_points, fill=color, outline=color)\n",
        "\n",
        "    def draw_circle(self, draw, color, x, y, radius):\n",
        "        draw.ellipse((x - radius, y - radius, x + radius, y + radius), fill=color, outline=color)\n",
        "\n",
        "    def draw_hexagon(self, draw, color, x, y, size, angle):\n",
        "        center_x = x\n",
        "        center_y = y\n",
        "        points = []\n",
        "        for i in range(6):\n",
        "            angle_offset = 2 * math.pi / 6 * i\n",
        "            pxx = size * math.cos(angle_offset + angle)\n",
        "            py = size * math.sin(angle_offset + angle)\n",
        "            points.append((pxx, py))\n",
        "\n",
        "        # Переводим координаты обратно в систему координат изображения\n",
        "        rotated_points = [(center_x + pxx, center_y + py) for pxx, py in points]\n",
        "\n",
        "        draw.polygon(rotated_points, fill=color, outline=color)\n",
        "\n",
        "    def draw_rotated_hexagon(self, draw, color, x, y, size, angle):\n",
        "        center_x = x\n",
        "        center_y = y  # Координаты центра гексагона\n",
        "        points = []\n",
        "        for i in range(6):\n",
        "            angle_rad = angle * 15 * math.pi\n",
        "            angle_offset = 2 * math.pi / 6 * i\n",
        "            pxxx = x + size * math.cos(angle_offset + angle_rad)\n",
        "            py = y + size * math.sin(angle_offset + angle_rad)\n",
        "            points.append((pxxx, py))\n",
        "\n",
        "        # Рисуем гексагон\n",
        "        draw.polygon(points, fill=color, outline=color)\n",
        "\n",
        "    def rotate_point(self, point, center, angle): # Функция отвечающая за вращение координат\n",
        "        x, y = point\n",
        "        cx, cy = center\n",
        "        new_x = (x - cx) * math.cos(angle) - (y - cy) * math.sin(angle) + cx\n",
        "        new_y = (x - cx) * math.sin(angle) + (y - cy) * math.cos(angle) + cy\n",
        "        return new_x, new_y\n",
        "\n",
        "    def fill_mask(self, x, y, size):\n",
        "        for i in range(y - size, y + size + 1):\n",
        "            for j in range(x - size, x + size + 1):\n",
        "                if 0 <= i < self.height and 0 <= j < self.width:\n",
        "                    self.mask[i][j] = True\n",
        "\n",
        "    def round_to_tenth(self,value):# Функция для округления значений\n",
        "        return round(value, 1)\n",
        "\n",
        "    def generate_boundary_box_params(self, id_offset):\n",
        "        params_list = []\n",
        "        for idx, (bx1, by1, bx2, by2) in enumerate(self.boundary_boxes):\n",
        "            bx1, by1, bx2, by2 = np.clip([bx1, by1, bx2, by2], 0, 256)\n",
        "            # Округляем значения до десятой доли\n",
        "            bx1, by1, bx2, by2 = int(bx1), int(by1), int(bx2), int(by2)\n",
        "            wid = bx2 - bx1\n",
        "            heig = by2 - by1\n",
        "            bx1, by1, wid, heig = map(self.round_to_tenth, (bx1, by1, wid, heig))\n",
        "\n",
        "            box_params = {\n",
        "                \"id\": id_offset + idx + 1,\n",
        "                \"name\": self.fig_type[idx],\n",
        "                \"region\": {\n",
        "                    \"origin\": {\n",
        "                        \"x\": bx1,\n",
        "                        \"y\": by1,\n",
        "                    },\n",
        "                    \"size\": {\n",
        "                        \"width\": wid,\n",
        "                        \"height\": heig\n",
        "                    }\n",
        "                }\n",
        "            }\n",
        "            params_list.append(box_params)\n",
        "        return params_list"
      ],
      "metadata": {
        "id": "SHCcUOZp7F2A"
      },
      "execution_count": 5,
      "outputs": []
    },
    {
      "cell_type": "code",
      "source": [
        "fig_folder = \"fig1\"\n",
        "os.makedirs(fig_folder, exist_ok=True)\n",
        "\n",
        "\n",
        "json_folder = \"json1\"\n",
        "os.makedirs(json_folder, exist_ok=True)"
      ],
      "metadata": {
        "id": "Vm0MhfoAbCnd"
      },
      "execution_count": 6,
      "outputs": []
    },
    {
      "cell_type": "code",
      "source": [
        "def generator_func(x,y):\n",
        "    id_counter = 0\n",
        "\n",
        "    for i in tqdm(range(x, y)):\n",
        "\n",
        "        # Создаем экземпляр класса\n",
        "        generator = RandomShapesImageGenerator(256, 256)\n",
        "\n",
        "        # Генерируем и сохраняем изображение\n",
        "        image = generator.generate_image()\n",
        "        image_path = os.path.join(fig_folder,  f\"{i + 1:03d}.png\")\n",
        "        image.save(image_path)\n",
        "\n",
        "        # Получаем параметры границ и сохраняем их в JSON\n",
        "        boundary_params = generator.generate_boundary_box_params(id_counter)\n",
        "        json_path = os.path.join(json_folder, f\"{i + 1:03d}.json\")\n",
        "        with open(json_path, \"w\") as json_file:\n",
        "            json.dump(boundary_params, json_file, indent=4)\n",
        "        id_counter += len(generator.boundary_boxes)"
      ],
      "metadata": {
        "id": "7aqVRnIkbCjT"
      },
      "execution_count": 7,
      "outputs": []
    },
    {
      "cell_type": "code",
      "source": [
        "generator_func(0,100)"
      ],
      "metadata": {
        "colab": {
          "base_uri": "https://localhost:8080/"
        },
        "id": "aKVNjcJLbCck",
        "outputId": "affa0df3-18f5-4ec0-a861-759ed1f8145e"
      },
      "execution_count": 8,
      "outputs": [
        {
          "output_type": "stream",
          "name": "stderr",
          "text": [
            "100%|██████████| 100/100 [00:09<00:00, 11.04it/s]\n"
          ]
        }
      ]
    },
    {
      "cell_type": "code",
      "source": [
        "import zipfile\n",
        "\n",
        "def create_zip_archive(archive_name, source_folders):\n",
        "    with zipfile.ZipFile(archive_name, 'w', zipfile.ZIP_DEFLATED) as zipf:\n",
        "        for folder in source_folders:\n",
        "            for root, dirs, files in os.walk(folder):\n",
        "                for file in files:\n",
        "                    file_path = os.path.join(root, file)\n",
        "                    arcname = os.path.relpath(file_path, folder)\n",
        "                    zipf.write(file_path, arcname)\n",
        "\n",
        "# Указываем папки для архивирования\n",
        "source_folders = ['fig1', 'json1']\n",
        "\n",
        "# Создаем архив\n",
        "create_zip_archive('data.zip', source_folders)"
      ],
      "metadata": {
        "id": "NsIsImJlRvHM"
      },
      "execution_count": 9,
      "outputs": []
    },
    {
      "cell_type": "code",
      "execution_count": 10,
      "metadata": {
        "id": "ZHA_sufaa3-a"
      },
      "outputs": [],
      "source": [
        "class CustomDataset(Dataset):\n",
        "    def __init__(self, image_folder, json_folder, transforms=None):\n",
        "        self.image_folder = image_folder\n",
        "        self.json_folder = json_folder\n",
        "        self.image_files = sorted([f for f in os.listdir(image_folder) if f.endswith(\".png\")])\n",
        "        self.json_files = sorted([f for f in os.listdir(json_folder) if f.endswith(\".json\")])\n",
        "        self.transforms = transforms\n",
        "        self.class_labels = ['_','hexagon', 'triangle', 'circle', 'rhombus']\n",
        "\n",
        "    def __len__(self):\n",
        "        return len(self.image_files)\n",
        "\n",
        "    def __getitem__(self, idx):\n",
        "        image_path = os.path.join(self.image_folder, self.image_files[idx])\n",
        "        json_path = os.path.join(self.json_folder, self.json_files[idx])\n",
        "\n",
        "        img = cv2.imread(image_path)# чтение файла\n",
        "        image = img.astype(np.float32)\n",
        "\n",
        "        with open(json_path, \"r\") as json_file:\n",
        "            json_data = json.load(json_file)\n",
        "\n",
        "        boxes = []\n",
        "        labels = []\n",
        "\n",
        "        # Обработка данных JSON для извлечения рамок и меток.\n",
        "        for item in json_data:\n",
        "            if item[\"name\"] in self.class_labels:\n",
        "                x, y, w, h = item[\"region\"]['origin'][\"x\"], item[\"region\"]['origin'][\"y\"], item[\"region\"]['size'][\"width\"], item[\"region\"]['size'][\"height\"]\n",
        "                boxes.append([x, y, x + w, y + h])\n",
        "                labels.append(self.class_labels.index(item[\"name\"]))\n",
        "\n",
        "        target = {\n",
        "            \"boxes\": torch.tensor(boxes, dtype=torch.float32),\n",
        "            \"labels\": torch.tensor(labels, dtype=torch.int64)\n",
        "        }\n",
        "\n",
        "        if self.transforms:\n",
        "            sample = self.transforms(image = image,\n",
        "                                      bboxes = target['boxes'],\n",
        "                                      labels = labels)\n",
        "            img_res = sample['image']\n",
        "            target['boxes'] = torch.Tensor(sample['bboxes'])\n",
        "\n",
        "        return img_res, target"
      ]
    },
    {
      "cell_type": "code",
      "execution_count": 11,
      "metadata": {
        "id": "VYtRTw0PM86q"
      },
      "outputs": [],
      "source": [
        "def plot_img_bbox(image, target, class_labels, aug):\n",
        "    fig, ax = plt.subplots(1)\n",
        "    fig.set_size_inches(5, 5)\n",
        "\n",
        "    if isinstance(image, torch.Tensor):\n",
        "        image = transforms.ToPILImage()(image)\n",
        "\n",
        "    ax.imshow(image)\n",
        "\n",
        "    boxes = target['boxes']\n",
        "    labels = target['labels']\n",
        "\n",
        "    for box, label_idx in zip(boxes, labels):\n",
        "        x1, y1, x2, y2 = box\n",
        "        label = class_labels[label_idx]\n",
        "\n",
        "        # Создайте описывающего прямоугольника\n",
        "        rect = patches.Rectangle((x1, y1), x2 - x1, y2 - y1, linewidth=2, edgecolor='r', facecolor='none')\n",
        "        ax.add_patch(rect)\n",
        "\n",
        "        # Добавление названия фигуры\n",
        "        ax.text(x1, y1, label, color='r', backgroundcolor='none', fontsize=12)\n",
        "    if aug == True:\n",
        "      ax.set_title(\"Augmented Image\")\n",
        "    else:\n",
        "      ax.set_title(\"Original Image\")\n",
        "\n",
        "    plt.show()"
      ]
    },
    {
      "cell_type": "code",
      "execution_count": 12,
      "metadata": {
        "id": "jGCEqhNeM8yr"
      },
      "outputs": [],
      "source": [
        "def get_model(num_classes, modelName):\n",
        "\n",
        "    # Загрузка модели\n",
        "    if modelName == 'fasterrcnn':\n",
        "        model = fasterrcnn_resnet50_fpn(pretrained=True)\n",
        "        in_features = model.roi_heads.box_predictor.cls_score.in_features\n",
        "        model.roi_heads.box_predictor = FastRCNNPredictor(in_features, num_classes)\n",
        "        return model\n",
        "\n",
        "    if modelName == 'SSD_300':\n",
        "        model = ssd300_vgg16(pretrained = True)\n",
        "        from torchvision.models.detection.ssd import SSDClassificationHead\n",
        "        anchors = model.anchor_generator.num_anchors_per_location()\n",
        "        out_channels = [512, 1024, 512, 256, 256, 256]\n",
        "        model.head.classification_head = SSDClassificationHead(out_channels, anchors, num_classes)\n",
        "        return model\n"
      ]
    },
    {
      "cell_type": "code",
      "execution_count": 13,
      "metadata": {
        "id": "6TTgHw_gM8v1"
      },
      "outputs": [],
      "source": [
        "def collate_fn(batch):\n",
        "    return tuple(zip(*batch))"
      ]
    },
    {
      "cell_type": "code",
      "execution_count": 14,
      "metadata": {
        "id": "hht2sypAM8tA"
      },
      "outputs": [],
      "source": [
        "def get_transform(train):\n",
        "    if train:\n",
        "        return A.Compose([\n",
        "            A.ImageCompression(quality_lower=60, quality_upper=100, p=0.5),\n",
        "            ToTensorV2(p=1.0)\n",
        "        ], bbox_params={'format': 'pascal_voc', 'label_fields': ['labels']})\n",
        "    else:\n",
        "        return A.Compose([\n",
        "            ToTensorV2(p=1.0)\n",
        "        ], bbox_params={'format': 'pascal_voc', 'label_fields': ['labels']})"
      ]
    },
    {
      "cell_type": "code",
      "execution_count": 15,
      "metadata": {
        "id": "Z7J3cigYlrnG",
        "colab": {
          "base_uri": "https://localhost:8080/"
        },
        "outputId": "6807d56b-6e64-44b5-db60-1ee7959c5f05"
      },
      "outputs": [
        {
          "output_type": "stream",
          "name": "stdout",
          "text": [
            "fig_files 100\n",
            "json_files 100\n"
          ]
        }
      ],
      "source": [
        "fig_folder = \"fig1\"\n",
        "json_folder = \"json1\"\n",
        "\n",
        "fig_files = sorted([f for f in os.listdir(fig_folder) if f.endswith(\".png\")])\n",
        "print('fig_files',len(fig_files))\n",
        "\n",
        "\n",
        "json_files = sorted([f for f in os.listdir(json_folder) if f.endswith(\".json\")])\n",
        "print('json_files',len(json_files))\n",
        "# Проверка количества файлов\n",
        "assert len(fig_files) == len(json_files)\n",
        "\n",
        "# Разделение на обучающую и тестовую выборки\n",
        "test_size = 0.2  # Процент тестовой выборки\n",
        "fig_train, fig_test, json_train, json_test = train_test_split(fig_files, json_files, test_size=test_size, random_state=42)"
      ]
    },
    {
      "cell_type": "code",
      "execution_count": 16,
      "metadata": {
        "id": "5rZyMz3unTPn"
      },
      "outputs": [],
      "source": [
        "# Исходные папки и папки назначения\n",
        "source_fig_folder = \"fig1\"\n",
        "source_json_folder = \"json1\"\n",
        "dest_train_fig_folder = \"train1/fig\"\n",
        "dest_train_json_folder = \"train1/json\"\n",
        "dest_test_fig_folder = \"test1/fig\"\n",
        "dest_test_json_folder = \"test1/json\"\n",
        "\n",
        "# Создание папок назначения\n",
        "os.makedirs(dest_train_fig_folder, exist_ok=True)\n",
        "os.makedirs(dest_train_json_folder, exist_ok=True)\n",
        "os.makedirs(dest_test_fig_folder, exist_ok=True)\n",
        "os.makedirs(dest_test_json_folder, exist_ok=True)\n",
        "\n",
        "# Перемещение файлов в папки назначения\n",
        "for fig_file, json_file in zip(fig_files, json_files):\n",
        "    if fig_file in fig_train:\n",
        "        shutil.copy(os.path.join(source_fig_folder, fig_file), os.path.join(dest_train_fig_folder, fig_file))\n",
        "        shutil.copy(os.path.join(source_json_folder, json_file), os.path.join(dest_train_json_folder, json_file))\n",
        "    else:\n",
        "        shutil.copy(os.path.join(source_fig_folder, fig_file), os.path.join(dest_test_fig_folder, fig_file))\n",
        "        shutil.copy(os.path.join(source_json_folder, json_file), os.path.join(dest_test_json_folder, json_file))"
      ]
    },
    {
      "cell_type": "code",
      "execution_count": 17,
      "metadata": {
        "id": "SApevV2-M84K",
        "colab": {
          "base_uri": "https://localhost:8080/",
          "height": 468
        },
        "outputId": "1b430832-fc37-4788-a21e-10e8f286f6f0"
      },
      "outputs": [
        {
          "output_type": "display_data",
          "data": {
            "text/plain": [
              "<Figure size 500x500 with 1 Axes>"
            ],
            "image/png": "[encoded data removed]"
          },
          "metadata": {}
        }
      ],
      "source": [
        "# Создание экземпляра CustomDataset\n",
        "train = CustomDataset(image_folder= '/content/train1/fig',\n",
        "                                json_folder= '/content/train1/json',\n",
        "                                transforms = get_transform(train = True))\n",
        "\n",
        "test= CustomDataset(image_folder= '/content/test1/fig',\n",
        "                                json_folder= '/content/test1/json',\n",
        "                                transforms = get_transform(train= False))\n",
        "\n",
        "# Получение доступа к единичному примеру\n",
        "sample = train[0]\n",
        "\n",
        "image = sample[0]  # Доступ к картинке\n",
        "target = sample[1]  # Доступ к target\n",
        "\n",
        "# Визуализация картинки с описывающим прямоугольником\n",
        "plot_img_bbox(image, target, train.class_labels, aug = True)"
      ]
    },
    {
      "cell_type": "code",
      "execution_count": 18,
      "metadata": {
        "id": "Z3yg49anM8qK"
      },
      "outputs": [],
      "source": [
        "def form_loader(dataset,dataset_test ):\n",
        "  train_data, val_data = train_test_split(dataset, test_size=0.1, random_state=101)\n",
        "\n",
        "  train_loader = torch.utils.data.DataLoader(\n",
        "    train_data, batch_size = 5, shuffle=True, num_workers=2,\n",
        "    collate_fn=collate_fn)\n",
        "\n",
        "  val_loader = torch.utils.data.DataLoader(\n",
        "      val_data, batch_size = 5, shuffle=True, num_workers=2,\n",
        "      collate_fn=collate_fn, drop_last = True)\n",
        "\n",
        "  test_loader = torch.utils.data.DataLoader(\n",
        "      dataset_test, batch_size=5, shuffle=False, num_workers=2,\n",
        "      collate_fn=collate_fn, drop_last = True)\n",
        "\n",
        "  return train_loader, val_loader, test_loader"
      ]
    },
    {
      "cell_type": "code",
      "execution_count": 19,
      "metadata": {
        "id": "3yzNgWyWM8nj",
        "colab": {
          "base_uri": "https://localhost:8080/"
        },
        "outputId": "0fa4b51c-1882-43d1-da2b-d8227d437358"
      },
      "outputs": [
        {
          "output_type": "stream",
          "name": "stderr",
          "text": [
            "/usr/local/lib/python3.10/dist-packages/albumentations/augmentations/functional.py:487: UserWarning: Image compression augmentation is most effective with uint8 inputs, float32 is used as input.\n",
            "  warn(\n"
          ]
        }
      ],
      "source": [
        "train_loader_RCNN, val_loader_RCNN, test_loader_RCNN = form_loader(train, test)"
      ]
    },
    {
      "cell_type": "code",
      "execution_count": 20,
      "metadata": {
        "id": "Bk8rbBOsM8k0"
      },
      "outputs": [],
      "source": [
        "n_batches, n_batches_test = len(train_loader_RCNN), len(val_loader_RCNN)"
      ]
    },
    {
      "cell_type": "code",
      "execution_count": 21,
      "metadata": {
        "id": "PDOZHGRqM8iD",
        "colab": {
          "base_uri": "https://localhost:8080/"
        },
        "outputId": "53e02391-5506-4d73-eaf4-62553004efe2"
      },
      "outputs": [
        {
          "output_type": "stream",
          "name": "stderr",
          "text": [
            "/usr/local/lib/python3.10/dist-packages/torchvision/models/_utils.py:208: UserWarning: The parameter 'pretrained' is deprecated since 0.13 and may be removed in the future, please use 'weights' instead.\n",
            "  warnings.warn(\n",
            "/usr/local/lib/python3.10/dist-packages/torchvision/models/_utils.py:223: UserWarning: Arguments other than a weight enum or `None` for 'weights' are deprecated since 0.13 and may be removed in the future. The current behavior is equivalent to passing `weights=SSD300_VGG16_Weights.COCO_V1`. You can also use `weights=SSD300_VGG16_Weights.DEFAULT` to get the most up-to-date weights.\n",
            "  warnings.warn(msg)\n",
            "Downloading: \"https://download.pytorch.org/models/ssd300_vgg16_coco-b556d3b4.pth\" to /root/.cache/torch/hub/checkpoints/ssd300_vgg16_coco-b556d3b4.pth\n",
            "100%|██████████| 136M/136M [00:00<00:00, 144MB/s]\n"
          ]
        }
      ],
      "source": [
        "device = torch.device('cuda') if torch.cuda.is_available() else torch.device('cpu')\n",
        "num_classes = 5\n",
        "modelName = 'SSD_300'\n",
        "model_RCNN = get_model(num_classes, modelName)\n",
        "model_RCNN.to(device)\n",
        "learning_rate = 1e-4\n",
        "optimizer = torch.optim.Adam(model_RCNN.parameters(), lr=learning_rate, weight_decay=0.005)\n",
        "lr_scheduler = torch.optim.lr_scheduler.StepLR(optimizer, step_size=3, gamma=0.1)"
      ]
    },
    {
      "cell_type": "code",
      "execution_count": 22,
      "metadata": {
        "id": "mSI2LiPtM8fc"
      },
      "outputs": [],
      "source": [
        "def train_model(model, data_loader=None,val_loader=None, num_epoch=10):\n",
        "    metric = MeanAveragePrecision()\n",
        "    loss_accum_list = []\n",
        "    map_list = []\n",
        "    sum_image = 0\n",
        "\n",
        "    # Словарь для подсчета количества натренированных фигур\n",
        "    class_counts = {class_label: 0 for class_label in train.class_labels}\n",
        "\n",
        "    for epoch in range(1, num_epoch + 1):\n",
        "        print(f\"Starting epoch {epoch} of {num_epoch}\")\n",
        "        time_start = time.time()\n",
        "        loss_accum = 0.0\n",
        "        model.train()\n",
        "\n",
        "        for batch_idx, (images, targets) in enumerate(data_loader, 1):\n",
        "            # Predict\n",
        "            images = list(image.to(device) for image in images)\n",
        "            targets = [{k: v.to(device) for k, v in t.items()} for t in targets]\n",
        "            loss_dict = model(images, targets)\n",
        "            loss = sum(loss for loss in loss_dict.values())\n",
        "\n",
        "            # Backprop\n",
        "            optimizer.zero_grad()\n",
        "            loss.backward()\n",
        "            optimizer.step()\n",
        "\n",
        "            # Logging\n",
        "            loss_accum += loss.item()\n",
        "\n",
        "            # Обновление словаря количества натренированных фигур\n",
        "            for target in targets:\n",
        "                labels = target[\"labels\"]\n",
        "                for label in labels:\n",
        "                    class_counts[train.class_labels[label]] += 1\n",
        "\n",
        "            sum_image += len(images)\n",
        "\n",
        "        lr_scheduler.step()\n",
        "\n",
        "        # Train losses\n",
        "        train_loss = loss_accum / n_batches\n",
        "        loss_accum_list.append(train_loss)\n",
        "\n",
        "        elapsed = time.time() - time_start\n",
        "        prefix = f\"[Epoch {epoch:2d} / {num_epoch:2d}]\"\n",
        "        print(f\"{prefix} Train loss: {train_loss:7.3f} [{elapsed:.0f} secs]\", end=' | ')\n",
        "\n",
        "        if epoch == 1:\n",
        "            torch.save(model.state_dict(), \"model_checkpoint2.pth\")\n",
        "\n",
        "        if epoch == num_epoch:\n",
        "            torch.save(model.state_dict(), \"model_checkpoint5.pth\")\n",
        "\n",
        "        preds_single = []\n",
        "        targets_single = []\n",
        "\n",
        "        for batch_idx, (images, targets) in enumerate(val_loader, 1):\n",
        "\n",
        "            images = list(image.to(device) for image in images)\n",
        "            targets = [{k: v.to(device) for k, v in t.items()} for t in targets]\n",
        "\n",
        "            targets_single.extend(targets)\n",
        "\n",
        "            model.eval()\n",
        "            with torch.no_grad():\n",
        "                pred = model(images)\n",
        "\n",
        "            preds_single.extend(pred)\n",
        "\n",
        "        metric.update(preds_single, targets_single)\n",
        "        batch_map = metric.compute()\n",
        "        map_list.append(batch_map['map'])\n",
        "        print(f\"Val mAP: {batch_map['map']}\")\n",
        "\n",
        "        clear_output(wait=True)\n",
        "        plt.figure(figsize=(16,9))\n",
        "        plt.grid(True)\n",
        "        plt.plot(loss_accum_list, label='Train loss')\n",
        "        plt.plot(map_list, label='map_list')\n",
        "        plt.legend()\n",
        "        plt.xlabel('epoch')\n",
        "        plt.ylabel('loss')\n",
        "        plt.suptitle('%d / %d - loss: %f , map: %f' % (num_epoch, epoch, loss_accum_list[-1], map_list[-1]))\n",
        "        plt.show()\n",
        "\n",
        "        print('sum_image', sum_image)\n",
        "            # Вывод суммарного количества натренированных фигур\n",
        "        for class_label, count in class_counts.items():\n",
        "            print(f\"{class_label}: {count} images\")\n",
        "\n",
        "    return model, loss_accum_list, map_list"
      ]
    },
    {
      "cell_type": "code",
      "execution_count": 23,
      "metadata": {
        "id": "1HyyeD3_M8aD",
        "colab": {
          "base_uri": "https://localhost:8080/",
          "height": 355
        },
        "outputId": "afdb0108-1bd5-4829-c687-291cb66bc5c7"
      },
      "outputs": [
        {
          "output_type": "stream",
          "name": "stdout",
          "text": [
            "Starting epoch 1 of 6\n"
          ]
        },
        {
          "output_type": "error",
          "ename": "KeyboardInterrupt",
          "evalue": "ignored",
          "traceback": [
            "\u001b[0;31m---------------------------------------------------------------------------\u001b[0m",
            "\u001b[0;31mKeyboardInterrupt\u001b[0m                         Traceback (most recent call last)",
            "\u001b[0;32m<ipython-input-23-022102cf6abf>\u001b[0m in \u001b[0;36m<cell line: 2>\u001b[0;34m()\u001b[0m\n\u001b[1;32m      1\u001b[0m \u001b[0mnum_epoch\u001b[0m \u001b[0;34m=\u001b[0m \u001b[0;36m6\u001b[0m\u001b[0;34m\u001b[0m\u001b[0;34m\u001b[0m\u001b[0m\n\u001b[0;32m----> 2\u001b[0;31m \u001b[0mmodel_RCNN\u001b[0m\u001b[0;34m,\u001b[0m \u001b[0mtrain_loss_RCNN\u001b[0m\u001b[0;34m,\u001b[0m \u001b[0mmap_list_RCNN\u001b[0m \u001b[0;34m=\u001b[0m \u001b[0mtrain_model\u001b[0m\u001b[0;34m(\u001b[0m\u001b[0mmodel_RCNN\u001b[0m\u001b[0;34m,\u001b[0m \u001b[0mtrain_loader_RCNN\u001b[0m\u001b[0;34m,\u001b[0m \u001b[0mtest_loader_RCNN\u001b[0m\u001b[0;34m,\u001b[0m \u001b[0mnum_epoch\u001b[0m\u001b[0;34m)\u001b[0m\u001b[0;34m\u001b[0m\u001b[0;34m\u001b[0m\u001b[0m\n\u001b[0m",
            "\u001b[0;32m<ipython-input-22-21fce01b3c1d>\u001b[0m in \u001b[0;36mtrain_model\u001b[0;34m(model, data_loader, val_loader, num_epoch)\u001b[0m\n\u001b[1;32m     18\u001b[0m             \u001b[0mimages\u001b[0m \u001b[0;34m=\u001b[0m \u001b[0mlist\u001b[0m\u001b[0;34m(\u001b[0m\u001b[0mimage\u001b[0m\u001b[0;34m.\u001b[0m\u001b[0mto\u001b[0m\u001b[0;34m(\u001b[0m\u001b[0mdevice\u001b[0m\u001b[0;34m)\u001b[0m \u001b[0;32mfor\u001b[0m \u001b[0mimage\u001b[0m \u001b[0;32min\u001b[0m \u001b[0mimages\u001b[0m\u001b[0;34m)\u001b[0m\u001b[0;34m\u001b[0m\u001b[0;34m\u001b[0m\u001b[0m\n\u001b[1;32m     19\u001b[0m             \u001b[0mtargets\u001b[0m \u001b[0;34m=\u001b[0m \u001b[0;34m[\u001b[0m\u001b[0;34m{\u001b[0m\u001b[0mk\u001b[0m\u001b[0;34m:\u001b[0m \u001b[0mv\u001b[0m\u001b[0;34m.\u001b[0m\u001b[0mto\u001b[0m\u001b[0;34m(\u001b[0m\u001b[0mdevice\u001b[0m\u001b[0;34m)\u001b[0m \u001b[0;32mfor\u001b[0m \u001b[0mk\u001b[0m\u001b[0;34m,\u001b[0m \u001b[0mv\u001b[0m \u001b[0;32min\u001b[0m \u001b[0mt\u001b[0m\u001b[0;34m.\u001b[0m\u001b[0mitems\u001b[0m\u001b[0;34m(\u001b[0m\u001b[0;34m)\u001b[0m\u001b[0;34m}\u001b[0m \u001b[0;32mfor\u001b[0m \u001b[0mt\u001b[0m \u001b[0;32min\u001b[0m \u001b[0mtargets\u001b[0m\u001b[0;34m]\u001b[0m\u001b[0;34m\u001b[0m\u001b[0;34m\u001b[0m\u001b[0m\n\u001b[0;32m---> 20\u001b[0;31m             \u001b[0mloss_dict\u001b[0m \u001b[0;34m=\u001b[0m \u001b[0mmodel\u001b[0m\u001b[0;34m(\u001b[0m\u001b[0mimages\u001b[0m\u001b[0;34m,\u001b[0m \u001b[0mtargets\u001b[0m\u001b[0;34m)\u001b[0m\u001b[0;34m\u001b[0m\u001b[0;34m\u001b[0m\u001b[0m\n\u001b[0m\u001b[1;32m     21\u001b[0m             \u001b[0mloss\u001b[0m \u001b[0;34m=\u001b[0m \u001b[0msum\u001b[0m\u001b[0;34m(\u001b[0m\u001b[0mloss\u001b[0m \u001b[0;32mfor\u001b[0m \u001b[0mloss\u001b[0m \u001b[0;32min\u001b[0m \u001b[0mloss_dict\u001b[0m\u001b[0;34m.\u001b[0m\u001b[0mvalues\u001b[0m\u001b[0;34m(\u001b[0m\u001b[0;34m)\u001b[0m\u001b[0;34m)\u001b[0m\u001b[0;34m\u001b[0m\u001b[0;34m\u001b[0m\u001b[0m\n\u001b[1;32m     22\u001b[0m \u001b[0;34m\u001b[0m\u001b[0m\n",
            "\u001b[0;32m/usr/local/lib/python3.10/dist-packages/torch/nn/modules/module.py\u001b[0m in \u001b[0;36m_call_impl\u001b[0;34m(self, *args, **kwargs)\u001b[0m\n\u001b[1;32m   1499\u001b[0m                 \u001b[0;32mor\u001b[0m \u001b[0m_global_backward_pre_hooks\u001b[0m \u001b[0;32mor\u001b[0m \u001b[0m_global_backward_hooks\u001b[0m\u001b[0;34m\u001b[0m\u001b[0;34m\u001b[0m\u001b[0m\n\u001b[1;32m   1500\u001b[0m                 or _global_forward_hooks or _global_forward_pre_hooks):\n\u001b[0;32m-> 1501\u001b[0;31m             \u001b[0;32mreturn\u001b[0m \u001b[0mforward_call\u001b[0m\u001b[0;34m(\u001b[0m\u001b[0;34m*\u001b[0m\u001b[0margs\u001b[0m\u001b[0;34m,\u001b[0m \u001b[0;34m**\u001b[0m\u001b[0mkwargs\u001b[0m\u001b[0;34m)\u001b[0m\u001b[0;34m\u001b[0m\u001b[0;34m\u001b[0m\u001b[0m\n\u001b[0m\u001b[1;32m   1502\u001b[0m         \u001b[0;31m# Do not call functions when jit is used\u001b[0m\u001b[0;34m\u001b[0m\u001b[0;34m\u001b[0m\u001b[0m\n\u001b[1;32m   1503\u001b[0m         \u001b[0mfull_backward_hooks\u001b[0m\u001b[0;34m,\u001b[0m \u001b[0mnon_full_backward_hooks\u001b[0m \u001b[0;34m=\u001b[0m \u001b[0;34m[\u001b[0m\u001b[0;34m]\u001b[0m\u001b[0;34m,\u001b[0m \u001b[0;34m[\u001b[0m\u001b[0;34m]\u001b[0m\u001b[0;34m\u001b[0m\u001b[0;34m\u001b[0m\u001b[0m\n",
            "\u001b[0;32m/usr/local/lib/python3.10/dist-packages/torchvision/models/detection/ssd.py\u001b[0m in \u001b[0;36mforward\u001b[0;34m(self, images, targets)\u001b[0m\n\u001b[1;32m    369\u001b[0m \u001b[0;34m\u001b[0m\u001b[0m\n\u001b[1;32m    370\u001b[0m         \u001b[0;31m# get the features from the backbone\u001b[0m\u001b[0;34m\u001b[0m\u001b[0;34m\u001b[0m\u001b[0m\n\u001b[0;32m--> 371\u001b[0;31m         \u001b[0mfeatures\u001b[0m \u001b[0;34m=\u001b[0m \u001b[0mself\u001b[0m\u001b[0;34m.\u001b[0m\u001b[0mbackbone\u001b[0m\u001b[0;34m(\u001b[0m\u001b[0mimages\u001b[0m\u001b[0;34m.\u001b[0m\u001b[0mtensors\u001b[0m\u001b[0;34m)\u001b[0m\u001b[0;34m\u001b[0m\u001b[0;34m\u001b[0m\u001b[0m\n\u001b[0m\u001b[1;32m    372\u001b[0m         \u001b[0;32mif\u001b[0m \u001b[0misinstance\u001b[0m\u001b[0;34m(\u001b[0m\u001b[0mfeatures\u001b[0m\u001b[0;34m,\u001b[0m \u001b[0mtorch\u001b[0m\u001b[0;34m.\u001b[0m\u001b[0mTensor\u001b[0m\u001b[0;34m)\u001b[0m\u001b[0;34m:\u001b[0m\u001b[0;34m\u001b[0m\u001b[0;34m\u001b[0m\u001b[0m\n\u001b[1;32m    373\u001b[0m             \u001b[0mfeatures\u001b[0m \u001b[0;34m=\u001b[0m \u001b[0mOrderedDict\u001b[0m\u001b[0;34m(\u001b[0m\u001b[0;34m[\u001b[0m\u001b[0;34m(\u001b[0m\u001b[0;34m\"0\"\u001b[0m\u001b[0;34m,\u001b[0m \u001b[0mfeatures\u001b[0m\u001b[0;34m)\u001b[0m\u001b[0;34m]\u001b[0m\u001b[0;34m)\u001b[0m\u001b[0;34m\u001b[0m\u001b[0;34m\u001b[0m\u001b[0m\n",
            "\u001b[0;32m/usr/local/lib/python3.10/dist-packages/torch/nn/modules/module.py\u001b[0m in \u001b[0;36m_call_impl\u001b[0;34m(self, *args, **kwargs)\u001b[0m\n\u001b[1;32m   1499\u001b[0m                 \u001b[0;32mor\u001b[0m \u001b[0m_global_backward_pre_hooks\u001b[0m \u001b[0;32mor\u001b[0m \u001b[0m_global_backward_hooks\u001b[0m\u001b[0;34m\u001b[0m\u001b[0;34m\u001b[0m\u001b[0m\n\u001b[1;32m   1500\u001b[0m                 or _global_forward_hooks or _global_forward_pre_hooks):\n\u001b[0;32m-> 1501\u001b[0;31m             \u001b[0;32mreturn\u001b[0m \u001b[0mforward_call\u001b[0m\u001b[0;34m(\u001b[0m\u001b[0;34m*\u001b[0m\u001b[0margs\u001b[0m\u001b[0;34m,\u001b[0m \u001b[0;34m**\u001b[0m\u001b[0mkwargs\u001b[0m\u001b[0;34m)\u001b[0m\u001b[0;34m\u001b[0m\u001b[0;34m\u001b[0m\u001b[0m\n\u001b[0m\u001b[1;32m   1502\u001b[0m         \u001b[0;31m# Do not call functions when jit is used\u001b[0m\u001b[0;34m\u001b[0m\u001b[0;34m\u001b[0m\u001b[0m\n\u001b[1;32m   1503\u001b[0m         \u001b[0mfull_backward_hooks\u001b[0m\u001b[0;34m,\u001b[0m \u001b[0mnon_full_backward_hooks\u001b[0m \u001b[0;34m=\u001b[0m \u001b[0;34m[\u001b[0m\u001b[0;34m]\u001b[0m\u001b[0;34m,\u001b[0m \u001b[0;34m[\u001b[0m\u001b[0;34m]\u001b[0m\u001b[0;34m\u001b[0m\u001b[0;34m\u001b[0m\u001b[0m\n",
            "\u001b[0;32m/usr/local/lib/python3.10/dist-packages/torchvision/models/detection/ssd.py\u001b[0m in \u001b[0;36mforward\u001b[0;34m(self, x)\u001b[0m\n\u001b[1;32m    539\u001b[0m     \u001b[0;32mdef\u001b[0m \u001b[0mforward\u001b[0m\u001b[0;34m(\u001b[0m\u001b[0mself\u001b[0m\u001b[0;34m,\u001b[0m \u001b[0mx\u001b[0m\u001b[0;34m:\u001b[0m \u001b[0mTensor\u001b[0m\u001b[0;34m)\u001b[0m \u001b[0;34m->\u001b[0m \u001b[0mDict\u001b[0m\u001b[0;34m[\u001b[0m\u001b[0mstr\u001b[0m\u001b[0;34m,\u001b[0m \u001b[0mTensor\u001b[0m\u001b[0;34m]\u001b[0m\u001b[0;34m:\u001b[0m\u001b[0;34m\u001b[0m\u001b[0;34m\u001b[0m\u001b[0m\n\u001b[1;32m    540\u001b[0m         \u001b[0;31m# L2 regularization + Rescaling of 1st block's feature map\u001b[0m\u001b[0;34m\u001b[0m\u001b[0;34m\u001b[0m\u001b[0m\n\u001b[0;32m--> 541\u001b[0;31m         \u001b[0mx\u001b[0m \u001b[0;34m=\u001b[0m \u001b[0mself\u001b[0m\u001b[0;34m.\u001b[0m\u001b[0mfeatures\u001b[0m\u001b[0;34m(\u001b[0m\u001b[0mx\u001b[0m\u001b[0;34m)\u001b[0m\u001b[0;34m\u001b[0m\u001b[0;34m\u001b[0m\u001b[0m\n\u001b[0m\u001b[1;32m    542\u001b[0m         \u001b[0mrescaled\u001b[0m \u001b[0;34m=\u001b[0m \u001b[0mself\u001b[0m\u001b[0;34m.\u001b[0m\u001b[0mscale_weight\u001b[0m\u001b[0;34m.\u001b[0m\u001b[0mview\u001b[0m\u001b[0;34m(\u001b[0m\u001b[0;36m1\u001b[0m\u001b[0;34m,\u001b[0m \u001b[0;34m-\u001b[0m\u001b[0;36m1\u001b[0m\u001b[0;34m,\u001b[0m \u001b[0;36m1\u001b[0m\u001b[0;34m,\u001b[0m \u001b[0;36m1\u001b[0m\u001b[0;34m)\u001b[0m \u001b[0;34m*\u001b[0m \u001b[0mF\u001b[0m\u001b[0;34m.\u001b[0m\u001b[0mnormalize\u001b[0m\u001b[0;34m(\u001b[0m\u001b[0mx\u001b[0m\u001b[0;34m)\u001b[0m\u001b[0;34m\u001b[0m\u001b[0;34m\u001b[0m\u001b[0m\n\u001b[1;32m    543\u001b[0m         \u001b[0moutput\u001b[0m \u001b[0;34m=\u001b[0m \u001b[0;34m[\u001b[0m\u001b[0mrescaled\u001b[0m\u001b[0;34m]\u001b[0m\u001b[0;34m\u001b[0m\u001b[0;34m\u001b[0m\u001b[0m\n",
            "\u001b[0;32m/usr/local/lib/python3.10/dist-packages/torch/nn/modules/module.py\u001b[0m in \u001b[0;36m_call_impl\u001b[0;34m(self, *args, **kwargs)\u001b[0m\n\u001b[1;32m   1499\u001b[0m                 \u001b[0;32mor\u001b[0m \u001b[0m_global_backward_pre_hooks\u001b[0m \u001b[0;32mor\u001b[0m \u001b[0m_global_backward_hooks\u001b[0m\u001b[0;34m\u001b[0m\u001b[0;34m\u001b[0m\u001b[0m\n\u001b[1;32m   1500\u001b[0m                 or _global_forward_hooks or _global_forward_pre_hooks):\n\u001b[0;32m-> 1501\u001b[0;31m             \u001b[0;32mreturn\u001b[0m \u001b[0mforward_call\u001b[0m\u001b[0;34m(\u001b[0m\u001b[0;34m*\u001b[0m\u001b[0margs\u001b[0m\u001b[0;34m,\u001b[0m \u001b[0;34m**\u001b[0m\u001b[0mkwargs\u001b[0m\u001b[0;34m)\u001b[0m\u001b[0;34m\u001b[0m\u001b[0;34m\u001b[0m\u001b[0m\n\u001b[0m\u001b[1;32m   1502\u001b[0m         \u001b[0;31m# Do not call functions when jit is used\u001b[0m\u001b[0;34m\u001b[0m\u001b[0;34m\u001b[0m\u001b[0m\n\u001b[1;32m   1503\u001b[0m         \u001b[0mfull_backward_hooks\u001b[0m\u001b[0;34m,\u001b[0m \u001b[0mnon_full_backward_hooks\u001b[0m \u001b[0;34m=\u001b[0m \u001b[0;34m[\u001b[0m\u001b[0;34m]\u001b[0m\u001b[0;34m,\u001b[0m \u001b[0;34m[\u001b[0m\u001b[0;34m]\u001b[0m\u001b[0;34m\u001b[0m\u001b[0;34m\u001b[0m\u001b[0m\n",
            "\u001b[0;32m/usr/local/lib/python3.10/dist-packages/torch/nn/modules/container.py\u001b[0m in \u001b[0;36mforward\u001b[0;34m(self, input)\u001b[0m\n\u001b[1;32m    215\u001b[0m     \u001b[0;32mdef\u001b[0m \u001b[0mforward\u001b[0m\u001b[0;34m(\u001b[0m\u001b[0mself\u001b[0m\u001b[0;34m,\u001b[0m \u001b[0minput\u001b[0m\u001b[0;34m)\u001b[0m\u001b[0;34m:\u001b[0m\u001b[0;34m\u001b[0m\u001b[0;34m\u001b[0m\u001b[0m\n\u001b[1;32m    216\u001b[0m         \u001b[0;32mfor\u001b[0m \u001b[0mmodule\u001b[0m \u001b[0;32min\u001b[0m \u001b[0mself\u001b[0m\u001b[0;34m:\u001b[0m\u001b[0;34m\u001b[0m\u001b[0;34m\u001b[0m\u001b[0m\n\u001b[0;32m--> 217\u001b[0;31m             \u001b[0minput\u001b[0m \u001b[0;34m=\u001b[0m \u001b[0mmodule\u001b[0m\u001b[0;34m(\u001b[0m\u001b[0minput\u001b[0m\u001b[0;34m)\u001b[0m\u001b[0;34m\u001b[0m\u001b[0;34m\u001b[0m\u001b[0m\n\u001b[0m\u001b[1;32m    218\u001b[0m         \u001b[0;32mreturn\u001b[0m \u001b[0minput\u001b[0m\u001b[0;34m\u001b[0m\u001b[0;34m\u001b[0m\u001b[0m\n\u001b[1;32m    219\u001b[0m \u001b[0;34m\u001b[0m\u001b[0m\n",
            "\u001b[0;32m/usr/local/lib/python3.10/dist-packages/torch/nn/modules/module.py\u001b[0m in \u001b[0;36m_call_impl\u001b[0;34m(self, *args, **kwargs)\u001b[0m\n\u001b[1;32m   1499\u001b[0m                 \u001b[0;32mor\u001b[0m \u001b[0m_global_backward_pre_hooks\u001b[0m \u001b[0;32mor\u001b[0m \u001b[0m_global_backward_hooks\u001b[0m\u001b[0;34m\u001b[0m\u001b[0;34m\u001b[0m\u001b[0m\n\u001b[1;32m   1500\u001b[0m                 or _global_forward_hooks or _global_forward_pre_hooks):\n\u001b[0;32m-> 1501\u001b[0;31m             \u001b[0;32mreturn\u001b[0m \u001b[0mforward_call\u001b[0m\u001b[0;34m(\u001b[0m\u001b[0;34m*\u001b[0m\u001b[0margs\u001b[0m\u001b[0;34m,\u001b[0m \u001b[0;34m**\u001b[0m\u001b[0mkwargs\u001b[0m\u001b[0;34m)\u001b[0m\u001b[0;34m\u001b[0m\u001b[0;34m\u001b[0m\u001b[0m\n\u001b[0m\u001b[1;32m   1502\u001b[0m         \u001b[0;31m# Do not call functions when jit is used\u001b[0m\u001b[0;34m\u001b[0m\u001b[0;34m\u001b[0m\u001b[0m\n\u001b[1;32m   1503\u001b[0m         \u001b[0mfull_backward_hooks\u001b[0m\u001b[0;34m,\u001b[0m \u001b[0mnon_full_backward_hooks\u001b[0m \u001b[0;34m=\u001b[0m \u001b[0;34m[\u001b[0m\u001b[0;34m]\u001b[0m\u001b[0;34m,\u001b[0m \u001b[0;34m[\u001b[0m\u001b[0;34m]\u001b[0m\u001b[0;34m\u001b[0m\u001b[0;34m\u001b[0m\u001b[0m\n",
            "\u001b[0;32m/usr/local/lib/python3.10/dist-packages/torch/nn/modules/conv.py\u001b[0m in \u001b[0;36mforward\u001b[0;34m(self, input)\u001b[0m\n\u001b[1;32m    461\u001b[0m \u001b[0;34m\u001b[0m\u001b[0m\n\u001b[1;32m    462\u001b[0m     \u001b[0;32mdef\u001b[0m \u001b[0mforward\u001b[0m\u001b[0;34m(\u001b[0m\u001b[0mself\u001b[0m\u001b[0;34m,\u001b[0m \u001b[0minput\u001b[0m\u001b[0;34m:\u001b[0m \u001b[0mTensor\u001b[0m\u001b[0;34m)\u001b[0m \u001b[0;34m->\u001b[0m \u001b[0mTensor\u001b[0m\u001b[0;34m:\u001b[0m\u001b[0;34m\u001b[0m\u001b[0;34m\u001b[0m\u001b[0m\n\u001b[0;32m--> 463\u001b[0;31m         \u001b[0;32mreturn\u001b[0m \u001b[0mself\u001b[0m\u001b[0;34m.\u001b[0m\u001b[0m_conv_forward\u001b[0m\u001b[0;34m(\u001b[0m\u001b[0minput\u001b[0m\u001b[0;34m,\u001b[0m \u001b[0mself\u001b[0m\u001b[0;34m.\u001b[0m\u001b[0mweight\u001b[0m\u001b[0;34m,\u001b[0m \u001b[0mself\u001b[0m\u001b[0;34m.\u001b[0m\u001b[0mbias\u001b[0m\u001b[0;34m)\u001b[0m\u001b[0;34m\u001b[0m\u001b[0;34m\u001b[0m\u001b[0m\n\u001b[0m\u001b[1;32m    464\u001b[0m \u001b[0;34m\u001b[0m\u001b[0m\n\u001b[1;32m    465\u001b[0m \u001b[0;32mclass\u001b[0m \u001b[0mConv3d\u001b[0m\u001b[0;34m(\u001b[0m\u001b[0m_ConvNd\u001b[0m\u001b[0;34m)\u001b[0m\u001b[0;34m:\u001b[0m\u001b[0;34m\u001b[0m\u001b[0;34m\u001b[0m\u001b[0m\n",
            "\u001b[0;32m/usr/local/lib/python3.10/dist-packages/torch/nn/modules/conv.py\u001b[0m in \u001b[0;36m_conv_forward\u001b[0;34m(self, input, weight, bias)\u001b[0m\n\u001b[1;32m    457\u001b[0m                             \u001b[0mweight\u001b[0m\u001b[0;34m,\u001b[0m \u001b[0mbias\u001b[0m\u001b[0;34m,\u001b[0m \u001b[0mself\u001b[0m\u001b[0;34m.\u001b[0m\u001b[0mstride\u001b[0m\u001b[0;34m,\u001b[0m\u001b[0;34m\u001b[0m\u001b[0;34m\u001b[0m\u001b[0m\n\u001b[1;32m    458\u001b[0m                             _pair(0), self.dilation, self.groups)\n\u001b[0;32m--> 459\u001b[0;31m         return F.conv2d(input, weight, bias, self.stride,\n\u001b[0m\u001b[1;32m    460\u001b[0m                         self.padding, self.dilation, self.groups)\n\u001b[1;32m    461\u001b[0m \u001b[0;34m\u001b[0m\u001b[0m\n",
            "\u001b[0;31mKeyboardInterrupt\u001b[0m: "
          ]
        }
      ],
      "source": [
        "num_epoch = 6\n",
        "model_RCNN, train_loss_RCNN, map_list_RCNN = train_model(model_RCNN, train_loader_RCNN, test_loader_RCNN, num_epoch)"
      ]
    },
    {
      "cell_type": "code",
      "execution_count": null,
      "metadata": {
        "id": "6iXVv637M8US"
      },
      "outputs": [],
      "source": [
        "def metric_test(model, test_loader):\n",
        "    metric = MeanAveragePrecision()\n",
        "\n",
        "    preds_single = []\n",
        "    targets_single = []\n",
        "\n",
        "    for batch_idx, (images, targets) in enumerate(test_loader, 1):\n",
        "\n",
        "        images = list(image.to(device) for image in images)\n",
        "        targets = [{k: v.to(device) for k, v in t.items()} for t in targets]\n",
        "\n",
        "        targets_single.extend(targets)\n",
        "\n",
        "        model.eval()\n",
        "        with torch.no_grad():\n",
        "            pred = model(images)\n",
        "\n",
        "        preds_single.extend(pred)\n",
        "\n",
        "    metric.update(preds_single, targets_single)\n",
        "    test_map = metric.compute()\n",
        "\n",
        "    print(f\"Test mAP: {test_map['map']}\")"
      ]
    },
    {
      "cell_type": "code",
      "source": [
        "checkpoint = torch.load(\"model_checkpoint5.pth\")\n",
        "model_RCNN.load_state_dict(checkpoint)\n",
        "model5 =  model_RCNN"
      ],
      "metadata": {
        "id": "t5UG2fX9-BeG"
      },
      "execution_count": null,
      "outputs": []
    },
    {
      "cell_type": "code",
      "execution_count": null,
      "metadata": {
        "id": "64jbzUOBM8RZ"
      },
      "outputs": [],
      "source": [
        "metric_test(model5, test_loader_RCNN)"
      ]
    },
    {
      "cell_type": "markdown",
      "metadata": {
        "id": "gliXtw0o5SoM"
      },
      "source": [
        "### Предсказание IOU для одной картинки"
      ]
    },
    {
      "cell_type": "code",
      "execution_count": null,
      "metadata": {
        "id": "R7Q92296M8Oy"
      },
      "outputs": [],
      "source": [
        "def apply_threshold(prediction,threshold=0.15):\n",
        "    index = prediction['scores'] > threshold\n",
        "    pred = prediction.copy()\n",
        "    pred['boxes'] = pred['boxes'][index]\n",
        "    pred['scores'] = pred['scores'][index]\n",
        "    pred['labels'] = pred['labels'][index]\n",
        "\n",
        "    return pred\n",
        "\n",
        "def apply_threshold_batch(prediction,threshold=0.15 ):\n",
        "    preds = []\n",
        "\n",
        "    for data in prediction:\n",
        "        preds.append(apply_threshold(data, threshold))\n",
        "\n",
        "    return preds"
      ]
    },
    {
      "cell_type": "code",
      "execution_count": null,
      "metadata": {
        "id": "rUSupgE_1yS6"
      },
      "outputs": [],
      "source": [
        "def plot_custom_img_bbox(image, prediction, target, class_labels):\n",
        "    fig, ax = plt.subplots(1)\n",
        "    fig.set_size_inches(5, 5)\n",
        "\n",
        "    if isinstance(image, torch.Tensor):\n",
        "        image = transforms.ToPILImage()(image.cpu()).convert('RGB')\n",
        "\n",
        "    ax.imshow(image)\n",
        "\n",
        "    # Отрисовка предсказанных ограничивающих рамок\n",
        "    pred_boxes = prediction['boxes'].cpu().detach().numpy()\n",
        "    pred_labels = prediction['labels'].cpu().detach().numpy()\n",
        "    for box, label_idx in zip(pred_boxes, pred_labels):\n",
        "        x1, y1, x2, y2 = box\n",
        "        label = class_labels[label_idx.item()]  # Преобразуем тензор метки в скаляр\n",
        "        rect = patches.Rectangle((x1, y1), x2 - x1, y2 - y1, linewidth=2, edgecolor='r', facecolor='none', label=f'Predicted {label}')\n",
        "        ax.add_patch(rect)\n",
        "        ax.text(x1, y1, label, color='r', backgroundcolor='none', fontsize=12)\n",
        "\n",
        "    # Отрисовка действительных ограничивающих рамок (из целевых данных)\n",
        "    true_boxes = target['boxes'].cpu().detach().numpy()\n",
        "    true_labels = target['labels'].cpu().detach().numpy()\n",
        "    for box, label_idx in zip(true_boxes, true_labels):\n",
        "        x1, y1, x2, y2 = box\n",
        "        label = class_labels[label_idx.item()]  # Преобразуем тензор метки в скаляр\n",
        "        rect = patches.Rectangle((x1, y1), x2 - x1, y2 - y1, linewidth=2, edgecolor='g', facecolor='none', label=f'True {label}')\n",
        "        ax.add_patch(rect)\n",
        "\n",
        "    plt.show()"
      ]
    },
    {
      "cell_type": "code",
      "execution_count": null,
      "metadata": {
        "id": "sVOjdnh5tG_G"
      },
      "outputs": [],
      "source": [
        "def calculate_iou(box1, box2):\n",
        "    # box1 и box2 представлены в формате [x1, y1, x2, y2], где (x1, y1) - левый верхний угол, (x2, y2) - правый нижний угол\n",
        "    # Площадь ограничивающей рамки box1\n",
        "    area1 = (box1[2] - box1[0]) * (box1[3] - box1[1])\n",
        "\n",
        "    # Площадь ограничивающей рамки box2\n",
        "    area2 = (box2[2] - box2[0]) * (box2[3] - box2[1])\n",
        "\n",
        "    # Находим координаты области пересечения\n",
        "    x1 = max(box1[0], box2[0])\n",
        "    y1 = max(box1[1], box2[1])\n",
        "    x2 = min(box1[2], box2[2])\n",
        "    y2 = min(box1[3], box2[3])\n",
        "\n",
        "    # Проверка на пересечение\n",
        "    if x1 < x2 and y1 < y2:\n",
        "        # Площадь области пересечения\n",
        "        intersection_area = (x2 - x1) * (y2 - y1)\n",
        "        # IoU\n",
        "        iou = intersection_area / (area1 + area2 - intersection_area)\n",
        "        return iou\n",
        "    else:\n",
        "        return 0.0"
      ]
    },
    {
      "cell_type": "code",
      "execution_count": null,
      "metadata": {
        "id": "Q4h0mpF39aye"
      },
      "outputs": [],
      "source": [
        "def iou_func(targets, filtered_preds, i):\n",
        "    # Инициализируем список для хранения значений IoU\n",
        "    iou_values = []\n",
        "\n",
        "    # Перебираем все действительные ограничивающие рамки\n",
        "    for true_box in targets[i]['boxes'].cpu().detach().numpy():\n",
        "        max_iou = 0  # Инициализируем максимальное значение IoU для данной действительной рамки\n",
        "        for pred_box in filtered_preds[i]['boxes'].cpu().detach().numpy():\n",
        "            iou = calculate_iou(pred_box, true_box)\n",
        "            max_iou = max(max_iou, iou)  # Обновляем максимальное значение IoU\n",
        "        iou_values.append(max_iou)  # Добавляем максимальное значение IoU\n",
        "\n",
        "    # Вычисляем среднее значение IoU только для ненулевых значений\n",
        "    average_iou = sum(iou_values) / len(iou_values)\n",
        "    return average_iou"
      ]
    },
    {
      "cell_type": "code",
      "source": [
        "def calculate_precision_recall(tp, fp, fn):\n",
        "    precision = tp / (tp + fp + 1e-6)  # Добавлено 1e-6 для избежания деления на ноль\n",
        "    recall = tp / (tp + fn + 1e-6)\n",
        "    return precision, recall"
      ],
      "metadata": {
        "id": "xp0Qih7sAwAY"
      },
      "execution_count": null,
      "outputs": []
    },
    {
      "cell_type": "code",
      "source": [
        "def calculate_tp_fp_fn(model, iou_threshold=0.5):\n",
        "    tp = 0\n",
        "    fp = 0\n",
        "    fn = 0\n",
        "    total_objects = 0\n",
        "\n",
        "    for i, (image, target) in enumerate(test_loader_RCNN, 1):\n",
        "        # Преобразование изображения и целевой информации на устройство\n",
        "        image = list(img.to(device) for img in image)\n",
        "        target = [{k: v.to(device) for k, v in t.items()} for t in target]\n",
        "\n",
        "        # Получение предсказаний модели\n",
        "        with torch.no_grad():\n",
        "            pred = model(image)\n",
        "            pred = apply_threshold_batch(pred, threshold=0.5)\n",
        "\n",
        "        # Итерация по предсказаниям и целям\n",
        "        for j, prediction in enumerate(pred):\n",
        "            # Истинные ограничивающие рамки и метки\n",
        "            true_boxes = target[j]['boxes'].cpu().detach().numpy()\n",
        "            true_labels = target[j]['labels'].cpu().detach().numpy()\n",
        "\n",
        "            # Предсказанные ограничивающие рамки, метки и оценки\n",
        "            pred_boxes = prediction['boxes'].cpu().detach().numpy()\n",
        "            pred_labels = prediction['labels'].cpu().detach().numpy()\n",
        "            pred_scores = prediction['scores'].cpu().detach().numpy()\n",
        "\n",
        "            # Создание массива булевых значений, где True, если IoU > порога\n",
        "            iou_matrix = np.zeros((len(true_boxes), len(pred_boxes)), dtype=bool)\n",
        "            for true_idx, true_box in enumerate(true_boxes):\n",
        "                for pred_idx, pred_box in enumerate(pred_boxes):\n",
        "                    iou = calculate_iou(true_box, pred_box)\n",
        "                    iou_matrix[true_idx, pred_idx] = iou > iou_threshold\n",
        "\n",
        "            # Вычисление TP и FP\n",
        "            used_preds = set()  # Хранит индексы предсказаний, которые уже использованы как TP или FP\n",
        "            for true_idx, true_label in enumerate(true_labels):\n",
        "                for pred_idx, pred_label in enumerate(pred_labels):\n",
        "                    if iou_matrix[true_idx, pred_idx] and true_label == pred_label and true_idx not in used_preds:\n",
        "                        tp += 1\n",
        "                        used_preds.add(true_idx)\n",
        "\n",
        "                    elif iou_matrix[true_idx, pred_idx] and true_label != pred_label and true_idx not in used_preds:\n",
        "                        fp += 1\n",
        "                        used_preds.add(true_idx)\n",
        "\n",
        "            total_objects += len(target[j]['labels'])\n",
        "            # Вычисление FN\n",
        "            fn = total_objects - fp- tp\n",
        "\n",
        "    return tp, fp, fn"
      ],
      "metadata": {
        "id": "ysIFD3mbI9GC"
      },
      "execution_count": null,
      "outputs": []
    },
    {
      "cell_type": "code",
      "source": [
        "total_objects = 0\n",
        "\n",
        "for images, targets in train_loader_RCNN:\n",
        "    for target in targets:\n",
        "        total_objects += len(target['labels'])\n",
        "\n",
        "print(f\"Общее количество объектов в тестовой выборке: {total_objects}\")"
      ],
      "metadata": {
        "id": "T6qaH-s3ERhm"
      },
      "execution_count": null,
      "outputs": []
    },
    {
      "cell_type": "code",
      "source": [
        "# Пример использования:\n",
        "# Замените last_batch на фактический батч данных из вашего test_loader_RCNN.\n",
        "tp, fp, fn = calculate_tp_fp_fn(model5, iou_threshold=0.75)\n",
        "\n",
        "print(f\"True Positives (TP): {tp}\")\n",
        "print(f\"False Positives (FP): {fp}\")\n",
        "print(f\"False Negatives (FN): {fn}\")\n",
        "print(f\"Sum: {tp+fp+fn}\")\n"
      ],
      "metadata": {
        "id": "_dl-DQ97BeCm"
      },
      "execution_count": null,
      "outputs": []
    },
    {
      "cell_type": "code",
      "source": [
        "precision, recall = calculate_precision_recall(tp, fp, fn)\n",
        "\n",
        "print(f\"Precision: {precision:.4f}\")\n",
        "print(f\"Recall: {recall:.4f}\")"
      ],
      "metadata": {
        "id": "zeeekfvbCHKo"
      },
      "execution_count": null,
      "outputs": []
    },
    {
      "cell_type": "code",
      "execution_count": null,
      "metadata": {
        "id": "l6_r-cHWsStL"
      },
      "outputs": [],
      "source": [
        "num_images = len(test_loader_RCNN.dataset)\n",
        "print(f\"Количество картинок в test_loader_RCNN: {num_images}\")"
      ]
    },
    {
      "cell_type": "code",
      "execution_count": null,
      "metadata": {
        "id": "uwwgJWLc_54G"
      },
      "outputs": [],
      "source": [
        "def mmm(model):\n",
        "    aver = []\n",
        "    count = 0\n",
        "    # Итерация по данным из test_loader_RCNN\n",
        "    for i, (image, target) in enumerate(test_loader_RCNN, 1):\n",
        "        # Преобразование изображения и целевой информации на устройство\n",
        "        image = list(img.to(device) for img in image)\n",
        "        target = [{k: v.to(device) for k, v in t.items()} for t in target]\n",
        "        # Получение предсказаний модели\n",
        "        model.eval()\n",
        "        with torch.no_grad():\n",
        "            pred = model5(image)\n",
        "            pred1 = apply_threshold_batch(pred, threshold=0.5)\n",
        "\n",
        "        for j in range(5):\n",
        "            # print('count', count)\n",
        "            av = iou_func(target, pred1,j)\n",
        "            aver.append(av)\n",
        "            # plot_custom_img_bbox(image[j], pred1[j], target[j], train.class_labels)\n",
        "            count += 1\n",
        "    return aver"
      ]
    },
    {
      "cell_type": "code",
      "source": [
        "def iou_my(model, index):\n",
        "    model.eval()\n",
        "    image, target = test_loader_RCNN.dataset[index]\n",
        "    pred = model([image.to(device)])\n",
        "    iou_pred = apply_threshold_batch(pred, threshold=0.5)\n",
        "    return image, iou_pred, target"
      ],
      "metadata": {
        "id": "xKisDaAW496M"
      },
      "execution_count": null,
      "outputs": []
    },
    {
      "cell_type": "code",
      "source": [
        "aver = mmm(model5)\n",
        "max_index = aver.index(max(aver))\n",
        "min_index = aver.index(min(aver))\n",
        "med_index = aver.index(mode(aver))\n",
        "\n",
        "max_image, max_pred, max_target = iou_my(model5,max_index)\n",
        "min_image, min_pred, min_target = iou_my(model5,min_index)\n",
        "med_image, med_pred, med_target = iou_my(model5,med_index)"
      ],
      "metadata": {
        "id": "JFTmCr7SVyWD"
      },
      "execution_count": null,
      "outputs": []
    },
    {
      "cell_type": "code",
      "source": [
        "# Создайте распределение с помощью Seaborn\n",
        "sns.histplot(aver, bins=10, kde=True)  # Вы можете настроить количество бинов (колонок) и отображение ядерной оценки плотности\n",
        "plt.xlabel('Значения')\n",
        "plt.ylabel('Частота')\n",
        "plt.title('Распределение значений')\n",
        "plt.show()"
      ],
      "metadata": {
        "id": "JDE_nkZh2N1X"
      },
      "execution_count": null,
      "outputs": []
    },
    {
      "cell_type": "code",
      "execution_count": null,
      "metadata": {
        "id": "7GaIHDwkxV6-"
      },
      "outputs": [],
      "source": [
        "print('IOU - наибольшего значения', max(aver))\n",
        "plot_custom_img_bbox(max_image, max_pred[0], max_target, train.class_labels)\n",
        "\n",
        "print('IOU - наименьшего значения', min(aver))\n",
        "plot_custom_img_bbox(min_image, min_pred[0], min_target, train.class_labels)\n",
        "\n",
        "print('IOU - среднего значения', mode(aver))\n",
        "plot_custom_img_bbox(med_image, med_pred[0], med_target, train.class_labels)"
      ]
    },
    {
      "cell_type": "markdown",
      "source": [
        "### Слабая модель"
      ],
      "metadata": {
        "id": "6z2QcNba9MLf"
      }
    },
    {
      "cell_type": "code",
      "source": [
        "checkpoint = torch.load(\"model_checkpoint2.pth\")\n",
        "model_RCNN.load_state_dict(checkpoint)\n",
        "model1 =  model_RCNN\n",
        "metric_test(model1, test_loader_RCNN)"
      ],
      "metadata": {
        "id": "ohpvI3NM5jAa"
      },
      "execution_count": null,
      "outputs": []
    },
    {
      "cell_type": "code",
      "source": [
        "# Пример использования:\n",
        "# Замените last_batch на фактический батч данных из вашего test_loader_RCNN.\n",
        "tp, fp, fn = calculate_tp_fp_fn(model5, iou_threshold=0.65)\n",
        "\n",
        "print(f\"True Positives (TP): {tp}\")\n",
        "print(f\"False Positives (FP): {fp}\")\n",
        "print(f\"False Negatives (FN): {fn}\")\n",
        "print(f\"Sum: {tp+fp+fn}\")"
      ],
      "metadata": {
        "id": "2KBChRGcnxdj"
      },
      "execution_count": null,
      "outputs": []
    },
    {
      "cell_type": "code",
      "source": [
        "precision, recall = calculate_precision_recall(tp, fp, fn)\n",
        "\n",
        "print(f\"Precision: {precision:.4f}\")\n",
        "print(f\"Recall: {recall:.4f}\")"
      ],
      "metadata": {
        "id": "gc78xGcanyH2"
      },
      "execution_count": null,
      "outputs": []
    },
    {
      "cell_type": "code",
      "source": [
        "aver = mmm(model1)\n",
        "max_index = aver.index(max(aver))\n",
        "min_index = aver.index(min(aver))\n",
        "med_index = aver.index(mode(aver))"
      ],
      "metadata": {
        "id": "SG-vGQdaV2nY"
      },
      "execution_count": null,
      "outputs": []
    },
    {
      "cell_type": "code",
      "source": [
        "# Создайте распределение с помощью Seaborn\n",
        "sns.histplot(aver, bins=10, kde=True)  # Вы можете настроить количество бинов (колонок) и отображение ядерной оценки плотности\n",
        "plt.xlabel('Значения')\n",
        "plt.ylabel('Частота')\n",
        "plt.title('Распределение значений')\n",
        "plt.show()"
      ],
      "metadata": {
        "id": "1hWyq0sSP0EE"
      },
      "execution_count": null,
      "outputs": []
    },
    {
      "cell_type": "code",
      "source": [
        "max_image, max_pred, max_target = iou_my(model1,max_index)\n",
        "min_image, min_pred, min_target = iou_my(model1,min_index)\n",
        "med_image, med_pred, med_target = iou_my(model1,med_index)"
      ],
      "metadata": {
        "id": "8zEErEuqV3FS"
      },
      "execution_count": null,
      "outputs": []
    },
    {
      "cell_type": "code",
      "source": [
        "print('IOU - наибольшего значения', max(aver))\n",
        "plot_custom_img_bbox(max_image, max_pred[0], max_target, train.class_labels)\n",
        "\n",
        "print('IOU - наименьшего значения', min(aver))\n",
        "plot_custom_img_bbox(min_image, min_pred[0], min_target, train.class_labels)\n",
        "\n",
        "print('IOU - среднего значения', mode(aver))\n",
        "plot_custom_img_bbox(med_image, med_pred[0], med_target, train.class_labels)"
      ],
      "metadata": {
        "id": "bo7zFB58W3I9"
      },
      "execution_count": null,
      "outputs": []
    }
  ],
  "metadata": {
    "colab": {
      "provenance": [],
      "gpuType": "T4"
    },
    "kernelspec": {
      "display_name": "Python 3",
      "name": "python3"
    },
    "language_info": {
      "name": "python"
    },
    "accelerator": "GPU"
  },
  "nbformat": 4,
  "nbformat_minor": 0
}